{
 "cells": [
  {
   "cell_type": "code",
   "execution_count": 1,
   "outputs": [],
   "source": [
    "%load_ext autoreload\n",
    "%autoreload 2"
   ],
   "metadata": {
    "collapsed": false,
    "ExecuteTime": {
     "end_time": "2023-12-31T07:01:13.867794Z",
     "start_time": "2023-12-31T07:01:13.838793Z"
    }
   }
  },
  {
   "cell_type": "code",
   "execution_count": 2,
   "outputs": [],
   "source": [
    "from src import *"
   ],
   "metadata": {
    "collapsed": false,
    "ExecuteTime": {
     "end_time": "2023-12-31T07:01:17.582200Z",
     "start_time": "2023-12-31T07:01:14.814431Z"
    }
   }
  },
  {
   "cell_type": "code",
   "execution_count": 3,
   "outputs": [],
   "source": [
    "import numpy as np\n",
    "import random\n",
    "import pandas as pd\n",
    "import torch\n",
    "from torch import nn\n",
    "from collections import defaultdict\n",
    "from tqdm.auto import tqdm, trange\n",
    "import pickle as pkl\n",
    "from typing import Literal, get_type_hints\n",
    "\n",
    "import itertools as it\n",
    "import more_itertools as mit"
   ],
   "metadata": {
    "collapsed": false,
    "ExecuteTime": {
     "end_time": "2023-12-31T07:02:33.705509Z",
     "start_time": "2023-12-31T07:02:32.125428Z"
    }
   }
  },
  {
   "cell_type": "code",
   "execution_count": 4,
   "outputs": [],
   "source": [
    "ttt = TicTacToe()"
   ],
   "metadata": {
    "collapsed": false,
    "ExecuteTime": {
     "end_time": "2023-12-31T07:02:33.725021Z",
     "start_time": "2023-12-31T07:02:33.707103Z"
    }
   }
  },
  {
   "cell_type": "code",
   "execution_count": 5,
   "outputs": [
    {
     "name": "stdout",
     "output_type": "stream",
     "text": [
      "[[0. 0. 0.]\n",
      " [0. 0. 0.]\n",
      " [0. 0. 0.]]\n"
     ]
    }
   ],
   "source": [
    "ttt.render()"
   ],
   "metadata": {
    "collapsed": false,
    "ExecuteTime": {
     "end_time": "2023-12-31T07:02:34.043482Z",
     "start_time": "2023-12-31T07:02:33.997620Z"
    }
   }
  },
  {
   "cell_type": "code",
   "execution_count": 6,
   "outputs": [],
   "source": [
    "q_table_policy = QTablePolicy.load('q_table.pkl', lr=0.1)\n",
    "mlp_policy = MLPPolicy(Model(), lr=0.001)\n",
    "# mcts_policy = MCTS(ttt)\n",
    "# mlp_policy = MLPPolicy.load(Model(), 'mlp.pt', lr=0.001)"
   ],
   "metadata": {
    "collapsed": false,
    "ExecuteTime": {
     "end_time": "2023-12-31T07:02:35.611347Z",
     "start_time": "2023-12-31T07:02:35.007469Z"
    }
   }
  },
  {
   "cell_type": "code",
   "execution_count": 7,
   "outputs": [],
   "source": [
    "def play(ttt, policy=None):\n",
    "    if policy is None:\n",
    "        policy = {1: RandomPolicy(), -1: RandomPolicy()}\n",
    "\n",
    "    tape = [dict(\n",
    "        player=None,\n",
    "        action_space=None,\n",
    "        action=None,\n",
    "        state=ttt.get_state(),\n",
    "        winner=0\n",
    "    )]\n",
    "\n",
    "    while (action_space := ttt.get_actions()) and not ttt.get_winner():\n",
    "        player = ttt.player\n",
    "        action = ttt.agent_move(policy[player])\n",
    "        state = ttt.get_state()\n",
    "        winner = ttt.get_winner()\n",
    "        tape.append(dict(\n",
    "            player=player,\n",
    "            action_space=action_space,\n",
    "            action=action,\n",
    "            state=state,\n",
    "            winner=winner\n",
    "        ))\n",
    "\n",
    "    tape.append(dict(\n",
    "        player=None,\n",
    "        action_space=set(),\n",
    "        action=None,\n",
    "        state=ttt.get_state(),\n",
    "        winner=ttt.get_winner()\n",
    "    ))\n",
    "    \n",
    "    return tape"
   ],
   "metadata": {
    "collapsed": false,
    "ExecuteTime": {
     "end_time": "2023-12-31T07:02:41.130389Z",
     "start_time": "2023-12-31T07:02:41.102614Z"
    }
   }
  },
  {
   "cell_type": "code",
   "execution_count": 8,
   "outputs": [],
   "source": [
    "def swap(state: np.ndarray, option: Literal[1, -1]):\n",
    "    return option * state\n",
    "\n",
    "def flip(state: np.ndarray, option: Literal[True, False]):\n",
    "    return np.fliplr(state) if option else state\n",
    "\n",
    "def rotate(state: np.ndarray, option: Literal[0, 1, 2, 3]):\n",
    "    return np.rot90(state, k=option)\n",
    "    "
   ],
   "metadata": {
    "collapsed": false,
    "ExecuteTime": {
     "end_time": "2023-12-31T07:02:42.728555Z",
     "start_time": "2023-12-31T07:02:42.704287Z"
    }
   }
  },
  {
   "cell_type": "code",
   "execution_count": 9,
   "outputs": [],
   "source": [
    "def get_param_options(fn, param='option'):\n",
    "    return get_type_hints(fn)['option'].__args__"
   ],
   "metadata": {
    "collapsed": false,
    "ExecuteTime": {
     "end_time": "2023-12-31T07:02:45.208323Z",
     "start_time": "2023-12-31T07:02:45.181398Z"
    }
   }
  },
  {
   "cell_type": "code",
   "execution_count": 10,
   "outputs": [],
   "source": [
    "def transform_state(raw_state, fns, opts):\n",
    "    state = raw_state.reshape([3, 3])\n",
    "    for fn, opt in zip(fns, opts):\n",
    "        state = fn(state, opt)\n",
    "    return state.flatten()\n",
    "\n",
    "def transform_actions(raw_actions, fns, opts):\n",
    "    actions = np.zeros(9)\n",
    "    actions[raw_actions] = 1\n",
    "    actions = transform_state(actions, fns, opts)\n",
    "    return np.nonzero(actions)[0]"
   ],
   "metadata": {
    "collapsed": false,
    "ExecuteTime": {
     "end_time": "2023-12-31T07:02:46.300066Z",
     "start_time": "2023-12-31T07:02:46.277515Z"
    }
   }
  },
  {
   "cell_type": "code",
   "execution_count": 14,
   "outputs": [],
   "source": [
    "def bellman_equation(policy, reward, state, actions):\n",
    "    if not actions:\n",
    "        return reward\n",
    "    return reward + max(policy.get_Q(state, action) for action in actions)\n",
    "\n",
    "def replay_episode(tape, policy):\n",
    "    state_list, action_list, q_list = [], [], []\n",
    "    transformations = [swap, flip, rotate]\n",
    "\n",
    "    for pre, cur, nxt in mit.windowed(tape, 3):\n",
    "        raw_start_state = np.array(list(pre['state'])).astype(int)\n",
    "        raw_end_state = np.array(list(nxt['state'])).astype(int)\n",
    "        raw_action = np.array([cur['action']]).astype(int)\n",
    "        raw_action_space = np.array(list(nxt['action_space'])).astype(int)\n",
    "        reward = cur['player'] * nxt['winner']\n",
    "        \n",
    "        for opts in it.product(*map(get_param_options, transformations)):\n",
    "            start_state = tuple(transform_state(raw_start_state, transformations, opts).tolist())\n",
    "            end_state = tuple(transform_state(raw_end_state, transformations, opts).tolist())\n",
    "            action = transform_actions(raw_action, transformations, opts).item()\n",
    "            action_space = set(transform_actions(raw_action_space, transformations, opts).tolist())\n",
    "\n",
    "            new_q = bellman_equation(policy, reward, end_state, action_space)\n",
    "            state_list.append(start_state)\n",
    "            action_list.append(action)\n",
    "            q_list.append(new_q)\n",
    "\n",
    "    return state_list, action_list, q_list"
   ],
   "metadata": {
    "collapsed": false,
    "ExecuteTime": {
     "end_time": "2023-12-31T07:03:16.591656Z",
     "start_time": "2023-12-31T07:03:16.567779Z"
    }
   }
  },
  {
   "cell_type": "code",
   "execution_count": 15,
   "outputs": [],
   "source": [
    "def train(policy, episodes, epsilon=0.2):\n",
    "    for episode in trange(episodes):\n",
    "        ttt.reset(start_player=random.choice([1, -1]))\n",
    "        tape = play(ttt, policy={-1: policy, 1: policy})\n",
    "        state_list, action_list, q_list = replay_episode(tape, policy)\n",
    "        loss = policy.batch_update_Q(state_list, action_list, q_list)\n"
   ],
   "metadata": {
    "collapsed": false,
    "ExecuteTime": {
     "end_time": "2023-12-31T07:03:23.811055Z",
     "start_time": "2023-12-31T07:03:23.783155Z"
    }
   }
  },
  {
   "cell_type": "code",
   "execution_count": 16,
   "outputs": [
    {
     "data": {
      "text/plain": "  0%|          | 0/10000 [00:00<?, ?it/s]",
      "application/vnd.jupyter.widget-view+json": {
       "version_major": 2,
       "version_minor": 0,
       "model_id": "b73a6edd4eb84b28a84d0d4e0d97d80f"
      }
     },
     "metadata": {},
     "output_type": "display_data"
    }
   ],
   "source": [
    "train(q_table_policy, episodes=10000)"
   ],
   "metadata": {
    "collapsed": false,
    "ExecuteTime": {
     "end_time": "2023-12-31T07:04:25.519584Z",
     "start_time": "2023-12-31T07:03:24.522371Z"
    }
   }
  },
  {
   "cell_type": "code",
   "execution_count": 81,
   "outputs": [],
   "source": [
    "ttt.reset()\n",
    "tape = play(ttt)"
   ],
   "metadata": {
    "collapsed": false,
    "ExecuteTime": {
     "end_time": "2023-12-30T14:59:33.779525Z",
     "start_time": "2023-12-30T14:59:33.753423Z"
    }
   }
  },
  {
   "cell_type": "code",
   "execution_count": 82,
   "outputs": [
    {
     "data": {
      "text/plain": "   player                 action_space  action  \\\n0     NaN                         None     NaN   \n1     1.0  {0, 1, 2, 3, 4, 5, 6, 7, 8}     2.0   \n2    -1.0     {0, 1, 3, 4, 5, 6, 7, 8}     0.0   \n3     1.0        {1, 3, 4, 5, 6, 7, 8}     3.0   \n4    -1.0           {1, 4, 5, 6, 7, 8}     8.0   \n5     1.0              {1, 4, 5, 6, 7}     4.0   \n6    -1.0                 {1, 5, 6, 7}     1.0   \n7     1.0                    {5, 6, 7}     6.0   \n8     NaN                           {}     NaN   \n\n                            state  winner  \n0     (0, 0, 0, 0, 0, 0, 0, 0, 0)       0  \n1     (0, 0, 1, 0, 0, 0, 0, 0, 0)       0  \n2    (-1, 0, 1, 0, 0, 0, 0, 0, 0)       0  \n3    (-1, 0, 1, 1, 0, 0, 0, 0, 0)       0  \n4   (-1, 0, 1, 1, 0, 0, 0, 0, -1)       0  \n5   (-1, 0, 1, 1, 1, 0, 0, 0, -1)       0  \n6  (-1, -1, 1, 1, 1, 0, 0, 0, -1)       0  \n7  (-1, -1, 1, 1, 1, 0, 1, 0, -1)       1  \n8  (-1, -1, 1, 1, 1, 0, 1, 0, -1)       1  ",
      "text/html": "<div>\n<style scoped>\n    .dataframe tbody tr th:only-of-type {\n        vertical-align: middle;\n    }\n\n    .dataframe tbody tr th {\n        vertical-align: top;\n    }\n\n    .dataframe thead th {\n        text-align: right;\n    }\n</style>\n<table border=\"1\" class=\"dataframe\">\n  <thead>\n    <tr style=\"text-align: right;\">\n      <th></th>\n      <th>player</th>\n      <th>action_space</th>\n      <th>action</th>\n      <th>state</th>\n      <th>winner</th>\n    </tr>\n  </thead>\n  <tbody>\n    <tr>\n      <th>0</th>\n      <td>NaN</td>\n      <td>None</td>\n      <td>NaN</td>\n      <td>(0, 0, 0, 0, 0, 0, 0, 0, 0)</td>\n      <td>0</td>\n    </tr>\n    <tr>\n      <th>1</th>\n      <td>1.0</td>\n      <td>{0, 1, 2, 3, 4, 5, 6, 7, 8}</td>\n      <td>2.0</td>\n      <td>(0, 0, 1, 0, 0, 0, 0, 0, 0)</td>\n      <td>0</td>\n    </tr>\n    <tr>\n      <th>2</th>\n      <td>-1.0</td>\n      <td>{0, 1, 3, 4, 5, 6, 7, 8}</td>\n      <td>0.0</td>\n      <td>(-1, 0, 1, 0, 0, 0, 0, 0, 0)</td>\n      <td>0</td>\n    </tr>\n    <tr>\n      <th>3</th>\n      <td>1.0</td>\n      <td>{1, 3, 4, 5, 6, 7, 8}</td>\n      <td>3.0</td>\n      <td>(-1, 0, 1, 1, 0, 0, 0, 0, 0)</td>\n      <td>0</td>\n    </tr>\n    <tr>\n      <th>4</th>\n      <td>-1.0</td>\n      <td>{1, 4, 5, 6, 7, 8}</td>\n      <td>8.0</td>\n      <td>(-1, 0, 1, 1, 0, 0, 0, 0, -1)</td>\n      <td>0</td>\n    </tr>\n    <tr>\n      <th>5</th>\n      <td>1.0</td>\n      <td>{1, 4, 5, 6, 7}</td>\n      <td>4.0</td>\n      <td>(-1, 0, 1, 1, 1, 0, 0, 0, -1)</td>\n      <td>0</td>\n    </tr>\n    <tr>\n      <th>6</th>\n      <td>-1.0</td>\n      <td>{1, 5, 6, 7}</td>\n      <td>1.0</td>\n      <td>(-1, -1, 1, 1, 1, 0, 0, 0, -1)</td>\n      <td>0</td>\n    </tr>\n    <tr>\n      <th>7</th>\n      <td>1.0</td>\n      <td>{5, 6, 7}</td>\n      <td>6.0</td>\n      <td>(-1, -1, 1, 1, 1, 0, 1, 0, -1)</td>\n      <td>1</td>\n    </tr>\n    <tr>\n      <th>8</th>\n      <td>NaN</td>\n      <td>{}</td>\n      <td>NaN</td>\n      <td>(-1, -1, 1, 1, 1, 0, 1, 0, -1)</td>\n      <td>1</td>\n    </tr>\n  </tbody>\n</table>\n</div>"
     },
     "execution_count": 82,
     "metadata": {},
     "output_type": "execute_result"
    }
   ],
   "source": [
    "pd.DataFrame(tape)"
   ],
   "metadata": {
    "collapsed": false,
    "ExecuteTime": {
     "end_time": "2023-12-30T14:59:35.099304Z",
     "start_time": "2023-12-30T14:59:35.065683Z"
    }
   }
  },
  {
   "cell_type": "code",
   "execution_count": 86,
   "outputs": [],
   "source": [
    "q_table_policy.save('q_table.pkl')"
   ],
   "metadata": {
    "collapsed": false,
    "ExecuteTime": {
     "end_time": "2023-12-30T22:12:27.796541Z",
     "start_time": "2023-12-30T22:12:27.631722Z"
    }
   }
  },
  {
   "cell_type": "code",
   "execution_count": 87,
   "outputs": [
    {
     "data": {
      "text/plain": "  0%|          | 0/1000 [00:00<?, ?it/s]",
      "application/vnd.jupyter.widget-view+json": {
       "version_major": 2,
       "version_minor": 0,
       "model_id": "66528d8b63ff4453b9be5f980165da7f"
      }
     },
     "metadata": {},
     "output_type": "display_data"
    },
    {
     "data": {
      "text/plain": "defaultdict(int, {-1.0: 857, 0: 83, 1: 60})"
     },
     "execution_count": 87,
     "metadata": {},
     "output_type": "execute_result"
    }
   ],
   "source": [
    "win_count = defaultdict(int)\n",
    "for episode in trange(1000):\n",
    "    ttt.reset(start_player=1)\n",
    "    tape = play(ttt, policy={1: RandomPolicy(), -1: q_table_policy})\n",
    "    win_count[ttt.get_winner()] += 1\n",
    "win_count"
   ],
   "metadata": {
    "collapsed": false,
    "ExecuteTime": {
     "end_time": "2023-12-30T22:12:29.498303Z",
     "start_time": "2023-12-30T22:12:28.811563Z"
    }
   }
  },
  {
   "cell_type": "code",
   "execution_count": 77,
   "outputs": [
    {
     "data": {
      "text/plain": "  0%|          | 0/1000 [00:00<?, ?it/s]",
      "application/vnd.jupyter.widget-view+json": {
       "version_major": 2,
       "version_minor": 0,
       "model_id": "ace90788f6c04a9b8703ff65bc9766a2"
      }
     },
     "metadata": {},
     "output_type": "display_data"
    },
    {
     "data": {
      "text/plain": "defaultdict(int, {1.0: 907, 0: 85, -1: 8})"
     },
     "execution_count": 77,
     "metadata": {},
     "output_type": "execute_result"
    }
   ],
   "source": [
    "win_count = defaultdict(int)\n",
    "for episode in trange(1000):\n",
    "    ttt.reset(start_player=1)\n",
    "    tape = play(ttt, policy={-1: RandomPolicy(), 1: q_table_policy})\n",
    "    win_count[ttt.get_winner()] += 1\n",
    "win_count"
   ],
   "metadata": {
    "collapsed": false,
    "ExecuteTime": {
     "end_time": "2023-12-30T14:58:56.388738Z",
     "start_time": "2023-12-30T14:58:56.003201Z"
    }
   }
  },
  {
   "cell_type": "code",
   "execution_count": 92,
   "outputs": [
    {
     "data": {
      "text/plain": "  0%|          | 0/1000 [00:00<?, ?it/s]",
      "application/vnd.jupyter.widget-view+json": {
       "version_major": 2,
       "version_minor": 0,
       "model_id": "36fd63a2c050498ba7a4af0d4fe96ac9"
      }
     },
     "metadata": {},
     "output_type": "display_data"
    },
    {
     "data": {
      "text/plain": "defaultdict(int, {-1.0: 861, 0: 73, 1.0: 66})"
     },
     "execution_count": 92,
     "metadata": {},
     "output_type": "execute_result"
    }
   ],
   "source": [
    "win_count = defaultdict(int)\n",
    "for episode in trange(1000):\n",
    "    ttt.reset(start_player=-1)\n",
    "    tape = play(ttt, policy={1: RandomPolicy(), -1: q_table_policy})\n",
    "    win_count[ttt.get_winner()] += 1\n",
    "win_count"
   ],
   "metadata": {
    "collapsed": false,
    "ExecuteTime": {
     "end_time": "2023-12-30T22:13:21.557866Z",
     "start_time": "2023-12-30T22:13:21.096876Z"
    }
   }
  },
  {
   "cell_type": "code",
   "execution_count": 91,
   "outputs": [
    {
     "data": {
      "text/plain": "  0%|          | 0/1000 [00:00<?, ?it/s]",
      "application/vnd.jupyter.widget-view+json": {
       "version_major": 2,
       "version_minor": 0,
       "model_id": "60ed297c170e442eb356dd43aec3bc3b"
      }
     },
     "metadata": {},
     "output_type": "display_data"
    },
    {
     "data": {
      "text/plain": "defaultdict(int, {1: 922, 0: 78})"
     },
     "execution_count": 91,
     "metadata": {},
     "output_type": "execute_result"
    }
   ],
   "source": [
    "win_count = defaultdict(int)\n",
    "for episode in trange(1000):\n",
    "    ttt.reset(start_player=-1)\n",
    "    tape = play(ttt, policy={-1: RandomPolicy(), 1: q_table_policy})\n",
    "    win_count[ttt.get_winner()] += 1\n",
    "win_count"
   ],
   "metadata": {
    "collapsed": false,
    "ExecuteTime": {
     "end_time": "2023-12-30T22:13:16.550427Z",
     "start_time": "2023-12-30T22:13:16.044815Z"
    }
   }
  },
  {
   "cell_type": "code",
   "execution_count": null,
   "outputs": [],
   "source": [
    "ttt.get_winner()"
   ],
   "metadata": {
    "collapsed": false
   }
  },
  {
   "cell_type": "code",
   "execution_count": null,
   "outputs": [],
   "source": [
    "pkl.dump(q_table, open('q_table.pkl', 'wb'))"
   ],
   "metadata": {
    "collapsed": false
   }
  },
  {
   "cell_type": "code",
   "execution_count": null,
   "outputs": [],
   "source": [],
   "metadata": {
    "collapsed": false
   }
  },
  {
   "cell_type": "markdown",
   "source": [
    "<a style='text-decoration:none;line-height:16px;display:flex;color:#5B5B62;padding:10px;justify-content:end;' href='https://deepnote.com?utm_source=created-in-deepnote-cell&projectId=3c248700-7124-49f1-b380-10760f1b619e' target=\"_blank\">\n",
    "<img alt='Created in deepnote.com' style='display:inline;max-height:16px;margin:0px;margin-right:7.5px;' src='data:image/svg+xml;base64,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' > </img>\n",
    "Created in <span style='font-weight:600;margin-left:4px;'>Deepnote</span></a>"
   ],
   "metadata": {
    "created_in_deepnote_cell": true,
    "deepnote_cell_type": "markdown"
   }
  }
 ],
 "nbformat": 4,
 "nbformat_minor": 0,
 "metadata": {
  "deepnote": {},
  "orig_nbformat": 2,
  "deepnote_notebook_id": "1afec097b95f478fbf952ec9418e290f",
  "deepnote_execution_queue": [],
  "kernelspec": {
   "name": "python3",
   "language": "python",
   "display_name": "Python 3 (ipykernel)"
  }
 }
}
