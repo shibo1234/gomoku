{
 "cells": [
  {
   "cell_type": "code",
   "execution_count": 2,
   "metadata": {
    "collapsed": false,
    "nbdime-conflicts": {
     "local_diff": [
      {
       "diff": [
        {
         "diff": [
          {
           "key": 0,
           "op": "addrange",
           "valuelist": [
            "2024-01-14T09:58:33.552468Z"
           ]
          },
          {
           "key": 0,
           "length": 1,
           "op": "removerange"
          }
         ],
         "key": "end_time",
         "op": "patch"
        },
        {
         "diff": [
          {
           "key": 0,
           "op": "addrange",
           "valuelist": [
            "2024-01-14T09:58:33.482396Z"
           ]
          },
          {
           "key": 0,
           "length": 1,
           "op": "removerange"
          }
         ],
         "key": "start_time",
         "op": "patch"
        }
       ],
       "key": "ExecuteTime",
       "op": "patch"
      }
     ],
     "remote_diff": [
      {
       "diff": [
        {
         "diff": [
          {
           "key": 0,
           "op": "addrange",
           "valuelist": [
            "2024-01-14T10:07:31.941112Z"
           ]
          },
          {
           "key": 0,
           "length": 1,
           "op": "removerange"
          }
         ],
         "key": "end_time",
         "op": "patch"
        },
        {
         "diff": [
          {
           "key": 0,
           "op": "addrange",
           "valuelist": [
            "2024-01-14T10:07:31.911215Z"
           ]
          },
          {
           "key": 0,
           "length": 1,
           "op": "removerange"
          }
         ],
         "key": "start_time",
         "op": "patch"
        }
       ],
       "key": "ExecuteTime",
       "op": "patch"
      }
     ]
    },
    "ExecuteTime": {
     "end_time": "2024-01-14T11:51:15.994145100Z",
     "start_time": "2024-01-14T11:51:15.615917Z"
    }
   },
   "outputs": [
    {
     "name": "stdout",
     "output_type": "stream",
     "text": [
      "The autoreload extension is already loaded. To reload it, use:\n",
      "  %reload_ext autoreload\n"
     ]
    }
   ],
   "source": [
    "%load_ext autoreload\n",
    "%autoreload 2"
   ]
  },
  {
   "cell_type": "code",
   "execution_count": 3,
   "metadata": {
    "collapsed": false,
    "nbdime-conflicts": {
     "local_diff": [
      {
       "diff": [
        {
         "diff": [
          {
           "key": 0,
           "op": "addrange",
           "valuelist": [
            "2024-01-14T10:08:08.195602Z"
           ]
          },
          {
           "key": 0,
           "length": 1,
           "op": "removerange"
          }
         ],
         "key": "end_time",
         "op": "patch"
        },
        {
         "diff": [
          {
           "key": 0,
           "op": "addrange",
           "valuelist": [
            "2024-01-14T10:08:08.182498Z"
           ]
          },
          {
           "key": 0,
           "length": 1,
           "op": "removerange"
          }
         ],
         "key": "start_time",
         "op": "patch"
        }
       ],
       "key": "ExecuteTime",
       "op": "patch"
      }
     ],
     "remote_diff": [
      {
       "diff": [
        {
         "diff": [
          {
           "key": 0,
           "op": "addrange",
           "valuelist": [
            "2024-01-14T10:07:34.506668Z"
           ]
          },
          {
           "key": 0,
           "length": 1,
           "op": "removerange"
          }
         ],
         "key": "end_time",
         "op": "patch"
        },
        {
         "diff": [
          {
           "key": 0,
           "op": "addrange",
           "valuelist": [
            "2024-01-14T10:07:32.859353Z"
           ]
          },
          {
           "key": 0,
           "length": 1,
           "op": "removerange"
          }
         ],
         "key": "start_time",
         "op": "patch"
        }
       ],
       "key": "ExecuteTime",
       "op": "patch"
      }
     ]
    },
    "ExecuteTime": {
     "end_time": "2024-01-14T11:51:20.676605Z",
     "start_time": "2024-01-14T11:51:17.627466700Z"
    }
   },
   "outputs": [],
   "source": [
    "from src import *"
   ]
  },
  {
   "cell_type": "code",
   "execution_count": 4,
   "metadata": {
    "collapsed": false,
    "nbdime-conflicts": {
     "local_diff": [
      {
       "diff": [
        {
         "diff": [
          {
           "key": 0,
           "op": "addrange",
           "valuelist": [
            "2024-01-14T10:08:08.506898Z"
           ]
          },
          {
           "key": 0,
           "length": 1,
           "op": "removerange"
          }
         ],
         "key": "end_time",
         "op": "patch"
        },
        {
         "diff": [
          {
           "key": 0,
           "op": "addrange",
           "valuelist": [
            "2024-01-14T10:08:08.501765Z"
           ]
          },
          {
           "key": 0,
           "length": 1,
           "op": "removerange"
          }
         ],
         "key": "start_time",
         "op": "patch"
        }
       ],
       "key": "ExecuteTime",
       "op": "patch"
      }
     ],
     "remote_diff": [
      {
       "diff": [
        {
         "diff": [
          {
           "key": 0,
           "op": "addrange",
           "valuelist": [
            "2024-01-14T10:07:57.001839Z"
           ]
          },
          {
           "key": 0,
           "length": 1,
           "op": "removerange"
          }
         ],
         "key": "end_time",
         "op": "patch"
        },
        {
         "diff": [
          {
           "key": 0,
           "op": "addrange",
           "valuelist": [
            "2024-01-14T10:07:56.983361Z"
           ]
          },
          {
           "key": 0,
           "length": 1,
           "op": "removerange"
          }
         ],
         "key": "start_time",
         "op": "patch"
        }
       ],
       "key": "ExecuteTime",
       "op": "patch"
      }
     ]
    },
    "ExecuteTime": {
     "end_time": "2024-01-14T11:51:26.695599400Z",
     "start_time": "2024-01-14T11:51:25.803105Z"
    }
   },
   "outputs": [],
   "source": [
    "import numpy as np\n",
    "import random\n",
    "import pandas as pd\n",
    "import torch\n",
    "from torch import nn\n",
    "from collections import defaultdict\n",
    "from tqdm.auto import tqdm, trange\n",
    "import pickle as pkl\n",
    "from typing import Literal, get_type_hints\n",
    "\n",
    "import itertools as it\n",
    "import more_itertools as mit"
   ]
  },
  {
   "cell_type": "code",
   "execution_count": 5,
   "metadata": {
    "collapsed": false,
    "nbdime-conflicts": {
     "local_diff": [
      {
       "diff": [
        {
         "diff": [
          {
           "key": 0,
           "op": "addrange",
           "valuelist": [
            "2024-01-14T10:08:08.769596Z"
           ]
          },
          {
           "key": 0,
           "length": 1,
           "op": "removerange"
          }
         ],
         "key": "end_time",
         "op": "patch"
        },
        {
         "diff": [
          {
           "key": 0,
           "op": "addrange",
           "valuelist": [
            "2024-01-14T10:08:08.762320Z"
           ]
          },
          {
           "key": 0,
           "length": 1,
           "op": "removerange"
          }
         ],
         "key": "start_time",
         "op": "patch"
        }
       ],
       "key": "ExecuteTime",
       "op": "patch"
      }
     ],
     "remote_diff": [
      {
       "diff": [
        {
         "diff": [
          {
           "key": 0,
           "op": "addrange",
           "valuelist": [
            "2024-01-14T10:07:59.878676Z"
           ]
          },
          {
           "key": 0,
           "length": 1,
           "op": "removerange"
          }
         ],
         "key": "end_time",
         "op": "patch"
        },
        {
         "diff": [
          {
           "key": 0,
           "op": "addrange",
           "valuelist": [
            "2024-01-14T10:07:59.853280Z"
           ]
          },
          {
           "key": 0,
           "length": 1,
           "op": "removerange"
          }
         ],
         "key": "start_time",
         "op": "patch"
        }
       ],
       "key": "ExecuteTime",
       "op": "patch"
      }
     ]
    },
    "ExecuteTime": {
     "end_time": "2024-01-14T11:51:30.439963Z",
     "start_time": "2024-01-14T11:51:30.209097300Z"
    }
   },
   "outputs": [],
   "source": [
    "def player_formatter(player: int) -> str:\n",
    "    symbol_mapping = {0: \" \", 1: \"X\", -1: \"O\"}\n",
    "    return symbol_mapping[player]\n",
    "    \n",
    "def state_formatter(state: tuple[int, ...]) -> str:\n",
    "    size = int(len(state) ** 0.5)\n",
    "    formatted_state = \"\\n\"\n",
    "    for i in range(size):\n",
    "        formatted_state += \"+---+---+---+\\n\"\n",
    "        row = state[i*size:(i+1)*size]\n",
    "        formatted_state += \"| \" + \" | \".join(player_formatter(cell)for cell in row) + \" |\\n\"\n",
    "    formatted_state += \"+---+---+---+\"\n",
    "    return formatted_state"
   ]
  },
  {
   "cell_type": "code",
   "execution_count": 6,
   "metadata": {
    "collapsed": false,
    "nbdime-conflicts": {
     "local_diff": [
      {
       "diff": [
        {
         "diff": [
          {
           "key": 0,
           "op": "addrange",
           "valuelist": [
            "2024-01-14T10:08:09.151796Z"
           ]
          },
          {
           "key": 0,
           "length": 1,
           "op": "removerange"
          }
         ],
         "key": "end_time",
         "op": "patch"
        },
        {
         "diff": [
          {
           "key": 0,
           "op": "addrange",
           "valuelist": [
            "2024-01-14T10:08:09.148090Z"
           ]
          },
          {
           "key": 0,
           "length": 1,
           "op": "removerange"
          }
         ],
         "key": "start_time",
         "op": "patch"
        }
       ],
       "key": "ExecuteTime",
       "op": "patch"
      }
     ],
     "remote_diff": [
      {
       "diff": [
        {
         "diff": [
          {
           "key": 0,
           "op": "addrange",
           "valuelist": [
            "2024-01-14T10:08:02.047544Z"
           ]
          },
          {
           "key": 0,
           "length": 1,
           "op": "removerange"
          }
         ],
         "key": "end_time",
         "op": "patch"
        },
        {
         "diff": [
          {
           "key": 0,
           "op": "addrange",
           "valuelist": [
            "2024-01-14T10:08:02.024388Z"
           ]
          },
          {
           "key": 0,
           "length": 1,
           "op": "removerange"
          }
         ],
         "key": "start_time",
         "op": "patch"
        }
       ],
       "key": "ExecuteTime",
       "op": "patch"
      }
     ]
    },
    "ExecuteTime": {
     "end_time": "2024-01-14T11:51:42.830454200Z",
     "start_time": "2024-01-14T11:51:42.265856500Z"
    }
   },
   "outputs": [
    {
     "name": "stdout",
     "output_type": "stream",
     "text": [
      "\n",
      "+---+---+---+\n",
      "|   |   |   |\n",
      "+---+---+---+\n",
      "|   |   |   |\n",
      "+---+---+---+\n",
      "|   |   |   |\n",
      "+---+---+---+\n"
     ]
    }
   ],
   "source": [
    "ttt = TicTacToe(default_state_formatter=state_formatter)\n",
    "ttt.render()"
   ]
  },
  {
   "cell_type": "code",
   "execution_count": 7,
   "metadata": {
    "collapsed": false,
    "nbdime-conflicts": {
     "local_diff": [
      {
       "diff": [
        {
         "diff": [
          {
           "key": 0,
           "op": "addrange",
           "valuelist": [
            "2024-01-14T10:08:09.625760Z"
           ]
          },
          {
           "key": 0,
           "length": 1,
           "op": "removerange"
          }
         ],
         "key": "end_time",
         "op": "patch"
        },
        {
         "diff": [
          {
           "key": 0,
           "op": "addrange",
           "valuelist": [
            "2024-01-14T10:08:09.574246Z"
           ]
          },
          {
           "key": 0,
           "length": 1,
           "op": "removerange"
          }
         ],
         "key": "start_time",
         "op": "patch"
        }
       ],
       "key": "ExecuteTime",
       "op": "patch"
      }
     ],
     "remote_diff": [
      {
       "diff": [
        {
         "diff": [
          {
           "key": 0,
           "op": "addrange",
           "valuelist": [
            "2024-01-14T10:23:29.562686Z"
           ]
          },
          {
           "key": 0,
           "length": 1,
           "op": "removerange"
          }
         ],
         "key": "end_time",
         "op": "patch"
        },
        {
         "diff": [
          {
           "key": 0,
           "op": "addrange",
           "valuelist": [
            "2024-01-14T10:23:29.491657Z"
           ]
          },
          {
           "key": 0,
           "length": 1,
           "op": "removerange"
          }
         ],
         "key": "start_time",
         "op": "patch"
        }
       ],
       "key": "ExecuteTime",
       "op": "patch"
      }
     ]
    },
    "ExecuteTime": {
     "end_time": "2024-01-14T11:51:46.736285100Z",
     "start_time": "2024-01-14T11:51:45.583767500Z"
    }
   },
   "outputs": [],
   "source": [
    "q_table_policy = QTablePolicy.load('q_table', lr=0.1, name='Deterministic Q Table')\n",
    "q_table_policy_stochastic = QTablePolicy(q_table_policy.q_table, \n",
    "                                         lr=0.1,\n",
    "                                         stochastic=True,\n",
    "                                         temperature=0.5,\n",
    "                                         name='Stochastic Q Table')\n",
    "human_policy = PromptPolicy(player_formatter)\n",
    "min_max_policy = MinMaxPolicy(game_cls=TicTacToe)\n",
    "mcts_policy = MCTS(game_cls=TicTacToe)\n",
    "# mlp_policy = MLPPolicy(mlp=MLP(), lr=0.001, name='MLP Policy')\n",
    "mlp_policy = MLPPolicy.load('mlp', mlp=MLP(), lr=0.001, device='cpu', name='MLP Policy')\n",
    "# mcts_policy = MCTS(ttt)"
   ]
  },
  {
   "cell_type": "code",
   "execution_count": 8,
   "metadata": {
    "collapsed": false,
    "nbdime-conflicts": {
     "local_diff": [
      {
       "diff": [
        {
         "diff": [
          {
           "key": 0,
           "op": "addrange",
           "valuelist": [
            "2024-01-14T10:08:10.628344Z"
           ]
          },
          {
           "key": 0,
           "length": 1,
           "op": "removerange"
          }
         ],
         "key": "end_time",
         "op": "patch"
        },
        {
         "diff": [
          {
           "key": 0,
           "op": "addrange",
           "valuelist": [
            "2024-01-14T10:08:10.599514Z"
           ]
          },
          {
           "key": 0,
           "length": 1,
           "op": "removerange"
          }
         ],
         "key": "start_time",
         "op": "patch"
        }
       ],
       "key": "ExecuteTime",
       "op": "patch"
      }
     ],
     "remote_diff": [
      {
       "diff": [
        {
         "diff": [
          {
           "key": 0,
           "op": "addrange",
           "valuelist": [
            "2024-01-14T10:08:57.996378Z"
           ]
          },
          {
           "key": 0,
           "length": 1,
           "op": "removerange"
          }
         ],
         "key": "end_time",
         "op": "patch"
        },
        {
         "diff": [
          {
           "key": 0,
           "op": "addrange",
           "valuelist": [
            "2024-01-14T10:08:57.971422Z"
           ]
          },
          {
           "key": 0,
           "length": 1,
           "op": "removerange"
          }
         ],
         "key": "start_time",
         "op": "patch"
        }
       ],
       "key": "ExecuteTime",
       "op": "patch"
      }
     ]
    },
    "ExecuteTime": {
     "end_time": "2024-01-14T11:51:48.429742900Z",
     "start_time": "2024-01-14T11:51:48.174671600Z"
    }
   },
   "outputs": [],
   "source": [
    "def play(ttt, policy=None, print_state=False):\n",
    "    if policy is None:\n",
    "        policy = RandomPolicy()\n",
    "    if not isinstance(policy, dict):\n",
    "        policy = {-1: policy, 1: policy}\n",
    "\n",
    "    tape = [dict(\n",
    "        player=None,\n",
    "        action_space=None,\n",
    "        action=None,\n",
    "        state=ttt.get_state(),\n",
    "        winner=0\n",
    "    )]\n",
    "\n",
    "    while (action_space := ttt.get_actions()) and not ttt.get_winner():\n",
    "        if print_state:\n",
    "            ttt.render()\n",
    "        player = ttt.player\n",
    "        action = ttt.agent_move(policy[player])\n",
    "        state = ttt.get_state()\n",
    "        winner = ttt.get_winner()\n",
    "        tape.append(dict(\n",
    "            player=player,\n",
    "            action_space=action_space,\n",
    "            action=action,\n",
    "            state=state,\n",
    "            winner=winner\n",
    "        ))\n",
    "    if print_state:\n",
    "        ttt.render()\n",
    "\n",
    "    tape.append(dict(\n",
    "        player=None,\n",
    "        action_space=set(),\n",
    "        action=None,\n",
    "        state=ttt.get_state(),\n",
    "        winner=ttt.get_winner()\n",
    "    ))\n",
    "    \n",
    "    return tape"
   ]
  },
  {
   "cell_type": "code",
   "execution_count": 9,
   "metadata": {
    "collapsed": false,
    "nbdime-conflicts": {
     "local_diff": [
      {
       "diff": [
        {
         "diff": [
          {
           "key": 0,
           "op": "addrange",
           "valuelist": [
            "2024-01-14T10:08:11.111585Z"
           ]
          },
          {
           "key": 0,
           "length": 1,
           "op": "removerange"
          }
         ],
         "key": "end_time",
         "op": "patch"
        },
        {
         "diff": [
          {
           "key": 0,
           "op": "addrange",
           "valuelist": [
            "2024-01-14T10:08:11.103885Z"
           ]
          },
          {
           "key": 0,
           "length": 1,
           "op": "removerange"
          }
         ],
         "key": "start_time",
         "op": "patch"
        }
       ],
       "key": "ExecuteTime",
       "op": "patch"
      }
     ],
     "remote_diff": [
      {
       "diff": [
        {
         "diff": [
          {
           "key": 0,
           "op": "addrange",
           "valuelist": [
            "2024-01-14T10:09:00.290873Z"
           ]
          },
          {
           "key": 0,
           "length": 1,
           "op": "removerange"
          }
         ],
         "key": "end_time",
         "op": "patch"
        },
        {
         "diff": [
          {
           "key": 0,
           "op": "addrange",
           "valuelist": [
            "2024-01-14T10:09:00.264997Z"
           ]
          },
          {
           "key": 0,
           "length": 1,
           "op": "removerange"
          }
         ],
         "key": "start_time",
         "op": "patch"
        }
       ],
       "key": "ExecuteTime",
       "op": "patch"
      }
     ]
    },
    "ExecuteTime": {
     "end_time": "2024-01-14T11:51:49.242901700Z",
     "start_time": "2024-01-14T11:51:49.028805600Z"
    }
   },
   "outputs": [],
   "source": [
    "def swap(state: np.ndarray, option: Literal[1, -1]):\n",
    "    return option * state\n",
    "\n",
    "def flip(state: np.ndarray, option: Literal[True, False]):\n",
    "    return np.fliplr(state) if option else state\n",
    "\n",
    "def rotate(state: np.ndarray, option: Literal[0, 1, 2, 3]):\n",
    "    return np.rot90(state, k=option)\n",
    "    "
   ]
  },
  {
   "cell_type": "code",
   "execution_count": 10,
   "metadata": {
    "collapsed": false,
    "nbdime-conflicts": {
     "local_diff": [
      {
       "diff": [
        {
         "diff": [
          {
           "key": 0,
           "op": "addrange",
           "valuelist": [
            "2024-01-14T10:08:11.561330Z"
           ]
          },
          {
           "key": 0,
           "length": 1,
           "op": "removerange"
          }
         ],
         "key": "end_time",
         "op": "patch"
        },
        {
         "diff": [
          {
           "key": 0,
           "op": "addrange",
           "valuelist": [
            "2024-01-14T10:08:11.553769Z"
           ]
          },
          {
           "key": 0,
           "length": 1,
           "op": "removerange"
          }
         ],
         "key": "start_time",
         "op": "patch"
        }
       ],
       "key": "ExecuteTime",
       "op": "patch"
      }
     ],
     "remote_diff": [
      {
       "diff": [
        {
         "diff": [
          {
           "key": 0,
           "op": "addrange",
           "valuelist": [
            "2024-01-14T10:09:01.399014Z"
           ]
          },
          {
           "key": 0,
           "length": 1,
           "op": "removerange"
          }
         ],
         "key": "end_time",
         "op": "patch"
        },
        {
         "diff": [
          {
           "key": 0,
           "op": "addrange",
           "valuelist": [
            "2024-01-14T10:09:01.379947Z"
           ]
          },
          {
           "key": 0,
           "length": 1,
           "op": "removerange"
          }
         ],
         "key": "start_time",
         "op": "patch"
        }
       ],
       "key": "ExecuteTime",
       "op": "patch"
      }
     ]
    },
    "ExecuteTime": {
     "end_time": "2024-01-14T11:51:49.633713Z",
     "start_time": "2024-01-14T11:51:49.453174Z"
    }
   },
   "outputs": [],
   "source": [
    "def get_param_options(fn, param='option'):\n",
    "    return get_type_hints(fn)['option'].__args__"
   ]
  },
  {
   "cell_type": "code",
   "execution_count": 11,
   "metadata": {
    "collapsed": false,
    "nbdime-conflicts": {
     "local_diff": [
      {
       "diff": [
        {
         "diff": [
          {
           "key": 0,
           "op": "addrange",
           "valuelist": [
            "2024-01-14T10:08:11.801886Z"
           ]
          },
          {
           "key": 0,
           "length": 1,
           "op": "removerange"
          }
         ],
         "key": "end_time",
         "op": "patch"
        },
        {
         "diff": [
          {
           "key": 0,
           "op": "addrange",
           "valuelist": [
            "2024-01-14T10:08:11.798804Z"
           ]
          },
          {
           "key": 0,
           "length": 1,
           "op": "removerange"
          }
         ],
         "key": "start_time",
         "op": "patch"
        }
       ],
       "key": "ExecuteTime",
       "op": "patch"
      }
     ],
     "remote_diff": [
      {
       "diff": [
        {
         "diff": [
          {
           "key": 0,
           "op": "addrange",
           "valuelist": [
            "2024-01-14T10:09:02.033387Z"
           ]
          },
          {
           "key": 0,
           "length": 1,
           "op": "removerange"
          }
         ],
         "key": "end_time",
         "op": "patch"
        },
        {
         "diff": [
          {
           "key": 0,
           "op": "addrange",
           "valuelist": [
            "2024-01-14T10:09:02.012802Z"
           ]
          },
          {
           "key": 0,
           "length": 1,
           "op": "removerange"
          }
         ],
         "key": "start_time",
         "op": "patch"
        }
       ],
       "key": "ExecuteTime",
       "op": "patch"
      }
     ]
    },
    "ExecuteTime": {
     "end_time": "2024-01-14T11:51:50.054674700Z",
     "start_time": "2024-01-14T11:51:49.838323700Z"
    }
   },
   "outputs": [],
   "source": [
    "def transform_state(raw_state, fns, opts):\n",
    "    state = raw_state.reshape([3, 3])\n",
    "    for fn, opt in zip(fns, opts):\n",
    "        state = fn(state, opt)\n",
    "    return state.flatten()\n",
    "\n",
    "def transform_actions(raw_actions, fns, opts):\n",
    "    actions = np.zeros(9)\n",
    "    actions[raw_actions] = 1\n",
    "    actions = transform_state(actions, fns, opts)\n",
    "    return np.nonzero(actions)[0]"
   ]
  },
  {
   "cell_type": "code",
   "execution_count": 12,
   "metadata": {
    "collapsed": false,
    "nbdime-conflicts": {
     "local_diff": [
      {
       "diff": [
        {
         "diff": [
          {
           "key": 0,
           "op": "addrange",
           "valuelist": [
            "2024-01-14T10:08:12.439160Z"
           ]
          },
          {
           "key": 0,
           "length": 1,
           "op": "removerange"
          }
         ],
         "key": "end_time",
         "op": "patch"
        },
        {
         "diff": [
          {
           "key": 0,
           "op": "addrange",
           "valuelist": [
            "2024-01-14T10:08:12.430942Z"
           ]
          },
          {
           "key": 0,
           "length": 1,
           "op": "removerange"
          }
         ],
         "key": "start_time",
         "op": "patch"
        }
       ],
       "key": "ExecuteTime",
       "op": "patch"
      }
     ],
     "remote_diff": [
      {
       "diff": [
        {
         "diff": [
          {
           "key": 0,
           "op": "addrange",
           "valuelist": [
            "2024-01-14T10:09:03.310954Z"
           ]
          },
          {
           "key": 0,
           "length": 1,
           "op": "removerange"
          }
         ],
         "key": "end_time",
         "op": "patch"
        },
        {
         "diff": [
          {
           "key": 0,
           "op": "addrange",
           "valuelist": [
            "2024-01-14T10:09:03.286671Z"
           ]
          },
          {
           "key": 0,
           "length": 1,
           "op": "removerange"
          }
         ],
         "key": "start_time",
         "op": "patch"
        }
       ],
       "key": "ExecuteTime",
       "op": "patch"
      }
     ]
    },
    "ExecuteTime": {
     "end_time": "2024-01-14T11:51:50.951129400Z",
     "start_time": "2024-01-14T11:51:50.778347700Z"
    }
   },
   "outputs": [],
   "source": [
    "def bellman_equation(policy, reward, state, player, actions):\n",
    "    if not actions:\n",
    "        return reward\n",
    "    return reward + max(policy.get_Q(state, player, action) for action in actions)\n",
    "\n",
    "def replay_episode(tape, policy):\n",
    "    state_list, player_list, action_list, q_list = [], [], [], []\n",
    "    transformations = [swap, flip, rotate]\n",
    "\n",
    "    for pre, cur, nxt in mit.windowed(tape, 3):\n",
    "        raw_start_state = np.array(list(pre['state'])).astype(int)\n",
    "        raw_end_state = np.array(list(nxt['state'])).astype(int)\n",
    "        raw_action = np.array([cur['action']]).astype(int)\n",
    "        raw_action_space = np.array(list(nxt['action_space'])).astype(int)\n",
    "        player = cur['player']\n",
    "        reward = cur['player'] * nxt['winner']\n",
    "        \n",
    "        for opts in it.product(*map(get_param_options, transformations)):\n",
    "            start_state = tuple(transform_state(raw_start_state, transformations, opts).tolist())\n",
    "            end_state = tuple(transform_state(raw_end_state, transformations, opts).tolist())\n",
    "            action = transform_actions(raw_action, transformations, opts).item()\n",
    "            action_space = set(transform_actions(raw_action_space, transformations, opts).tolist())\n",
    "\n",
    "            new_q = bellman_equation(policy, reward, end_state, player, action_space)\n",
    "            state_list.append(start_state)\n",
    "            player_list.append(player)\n",
    "            action_list.append(action)\n",
    "            q_list.append(new_q)\n",
    "\n",
    "    return state_list, player_list, action_list, q_list"
   ]
  },
  {
   "cell_type": "code",
   "execution_count": 12,
   "metadata": {
    "collapsed": false,
    "nbdime-conflicts": {
     "local_diff": [
      {
       "diff": [
        {
         "diff": [
          {
           "key": 0,
           "op": "addrange",
           "valuelist": [
            "2024-01-14T10:05:23.063313Z"
           ]
          },
          {
           "key": 0,
           "length": 1,
           "op": "removerange"
          }
         ],
         "key": "end_time",
         "op": "patch"
        },
        {
         "diff": [
          {
           "key": 0,
           "op": "addrange",
           "valuelist": [
            "2024-01-14T10:05:23.056994Z"
           ]
          },
          {
           "key": 0,
           "length": 1,
           "op": "removerange"
          }
         ],
         "key": "start_time",
         "op": "patch"
        }
       ],
       "key": "ExecuteTime",
       "op": "patch"
      }
     ],
     "remote_diff": [
      {
       "diff": [
        {
         "diff": [
          {
           "key": 0,
           "op": "addrange",
           "valuelist": [
            "2024-01-14T10:09:08.280771Z"
           ]
          },
          {
           "key": 0,
           "length": 1,
           "op": "removerange"
          }
         ],
         "key": "end_time",
         "op": "patch"
        },
        {
         "diff": [
          {
           "key": 0,
           "op": "addrange",
           "valuelist": [
            "2024-01-14T10:09:08.253317Z"
           ]
          },
          {
           "key": 0,
           "length": 1,
           "op": "removerange"
          }
         ],
         "key": "start_time",
         "op": "patch"
        }
       ],
       "key": "ExecuteTime",
       "op": "patch"
      }
     ]
    },
    "ExecuteTime": {
     "end_time": "2024-01-14T10:47:01.740191Z",
     "start_time": "2024-01-14T10:47:01.719710Z"
    }
   },
   "outputs": [],
   "source": [
    "def train(policy, episodes, epsilon=0.1):\n",
    "    eps_greedy_policy = EpsilonGreedyPolicy(policy, epsilon=epsilon)\n",
    "    for episode in trange(episodes):\n",
    "        ttt.reset(start_player=random.choice([1, -1]))\n",
    "        tape = play(ttt, policy=eps_greedy_policy)\n",
    "        state_list, player_list, action_list, q_list = replay_episode(tape, policy)\n",
    "        loss = policy.batch_update_Q(state_list, player_list, action_list, q_list)\n"
   ]
  },
  {
   "cell_type": "code",
   "execution_count": 13,
   "metadata": {
    "collapsed": false,
    "ExecuteTime": {
     "end_time": "2024-01-14T10:47:48.429582Z",
     "start_time": "2024-01-14T10:47:09.089363Z"
    }
   },
   "outputs": [
    {
     "data": {
      "text/plain": "  0%|          | 0/1000 [00:00<?, ?it/s]",
      "application/vnd.jupyter.widget-view+json": {
       "version_major": 2,
       "version_minor": 0,
       "model_id": "b296aa69091545c09ab3a3c342a70ab5"
      }
     },
     "metadata": {},
     "output_type": "display_data"
    }
   ],
   "source": [
    "train(mlp_policy, episodes=1000)"
   ]
  },
  {
   "cell_type": "code",
   "execution_count": 14,
   "metadata": {
    "collapsed": false,
    "ExecuteTime": {
     "end_time": "2024-01-14T10:47:56.712236Z",
     "start_time": "2024-01-14T10:47:56.688992Z"
    }
   },
   "outputs": [],
   "source": [
    "mlp_policy.save('mlp')"
   ]
  },
  {
   "cell_type": "code",
   "execution_count": null,
   "metadata": {
    "collapsed": false
   },
   "outputs": [],
   "source": [
    "train(q_table_policy_stochastic, episodes=100000)"
   ]
  },
  {
   "cell_type": "code",
   "execution_count": null,
   "metadata": {
    "collapsed": false
   },
   "outputs": [],
   "source": [
    "q_table_policy.save('q_table')"
   ]
  },
  {
   "cell_type": "markdown",
   "source": [
    "## Manual Play"
   ],
   "metadata": {
    "collapsed": false
   }
  },
  {
   "cell_type": "code",
   "execution_count": 13,
   "metadata": {
    "collapsed": false,
    "nbdime-conflicts": {
     "local_diff": [
      {
       "diff": [
        {
         "diff": [
          {
           "key": 0,
           "op": "addrange",
           "valuelist": [
            "2024-01-14T10:08:23.402777Z"
           ]
          },
          {
           "key": 0,
           "length": 1,
           "op": "removerange"
          }
         ],
         "key": "end_time",
         "op": "patch"
        },
        {
         "diff": [
          {
           "key": 0,
           "op": "addrange",
           "valuelist": [
            "2024-01-14T10:08:17.237189Z"
           ]
          },
          {
           "key": 0,
           "length": 1,
           "op": "removerange"
          }
         ],
         "key": "start_time",
         "op": "patch"
        }
       ],
       "key": "ExecuteTime",
       "op": "patch"
      }
     ],
     "remote_diff": [
      {
       "diff": [
        {
         "diff": [
          {
           "key": 0,
           "op": "addrange",
           "valuelist": [
            "2024-01-14T10:17:46.252894Z"
           ]
          },
          {
           "key": 0,
           "length": 1,
           "op": "removerange"
          }
         ],
         "key": "end_time",
         "op": "patch"
        },
        {
         "diff": [
          {
           "key": 0,
           "op": "addrange",
           "valuelist": [
            "2024-01-14T10:17:15.712516Z"
           ]
          },
          {
           "key": 0,
           "length": 1,
           "op": "removerange"
          }
         ],
         "key": "start_time",
         "op": "patch"
        }
       ],
       "key": "ExecuteTime",
       "op": "patch"
      }
     ]
    },
    "ExecuteTime": {
     "end_time": "2024-01-14T11:53:45.133708300Z",
     "start_time": "2024-01-14T11:53:13.286449400Z"
    }
   },
   "outputs": [
    {
     "name": "stdout",
     "output_type": "stream",
     "text": [
      "\n",
      "+---+---+---+\n",
      "|   |   |   |\n",
      "+---+---+---+\n",
      "|   |   |   |\n",
      "+---+---+---+\n",
      "|   |   |   |\n",
      "+---+---+---+\n",
      "\n",
      "+---+---+---+\n",
      "|   |   |   |\n",
      "+---+---+---+\n",
      "|   | X |   |\n",
      "+---+---+---+\n",
      "|   |   |   |\n",
      "+---+---+---+\n",
      "\n",
      "+---+---+---+\n",
      "| O |   |   |\n",
      "+---+---+---+\n",
      "|   | X |   |\n",
      "+---+---+---+\n",
      "|   |   |   |\n",
      "+---+---+---+\n",
      "\n",
      "+---+---+---+\n",
      "| O |   |   |\n",
      "+---+---+---+\n",
      "|   | X | X |\n",
      "+---+---+---+\n",
      "|   |   |   |\n",
      "+---+---+---+\n",
      "\n",
      "+---+---+---+\n",
      "| O |   |   |\n",
      "+---+---+---+\n",
      "| O | X | X |\n",
      "+---+---+---+\n",
      "|   |   |   |\n",
      "+---+---+---+\n",
      "\n",
      "+---+---+---+\n",
      "| O |   |   |\n",
      "+---+---+---+\n",
      "| O | X | X |\n",
      "+---+---+---+\n",
      "| X |   |   |\n",
      "+---+---+---+\n",
      "\n",
      "+---+---+---+\n",
      "| O |   | O |\n",
      "+---+---+---+\n",
      "| O | X | X |\n",
      "+---+---+---+\n",
      "| X |   |   |\n",
      "+---+---+---+\n",
      "\n",
      "+---+---+---+\n",
      "| O | X | O |\n",
      "+---+---+---+\n",
      "| O | X | X |\n",
      "+---+---+---+\n",
      "| X |   |   |\n",
      "+---+---+---+\n",
      "\n",
      "+---+---+---+\n",
      "| O | X | O |\n",
      "+---+---+---+\n",
      "| O | X | X |\n",
      "+---+---+---+\n",
      "| X | O |   |\n",
      "+---+---+---+\n",
      "\n",
      "+---+---+---+\n",
      "| O | X | O |\n",
      "+---+---+---+\n",
      "| O | X | X |\n",
      "+---+---+---+\n",
      "| X | O | X |\n",
      "+---+---+---+\n"
     ]
    }
   ],
   "source": [
    "ttt.reset()\n",
    "tape = play(ttt, policy={1: human_policy, -1: q_table_policy}, print_state=True)"
   ]
  },
  {
   "cell_type": "code",
   "execution_count": 14,
   "metadata": {
    "collapsed": false,
    "ExecuteTime": {
     "end_time": "2024-01-14T11:53:49.163615600Z",
     "start_time": "2024-01-14T11:53:48.619327300Z"
    }
   },
   "outputs": [
    {
     "data": {
      "text/plain": "    player                 action_space  action  \\\n0      NaN                         None     NaN   \n1      1.0  {0, 1, 2, 3, 4, 5, 6, 7, 8}     4.0   \n2     -1.0     {0, 1, 2, 3, 5, 6, 7, 8}     0.0   \n3      1.0        {1, 2, 3, 5, 6, 7, 8}     5.0   \n4     -1.0           {1, 2, 3, 6, 7, 8}     3.0   \n5      1.0              {1, 2, 6, 7, 8}     6.0   \n6     -1.0                 {8, 1, 2, 7}     2.0   \n7      1.0                    {8, 1, 7}     1.0   \n8     -1.0                       {8, 7}     7.0   \n9      1.0                          {8}     8.0   \n10     NaN                           {}     NaN   \n\n                              state  winner  \n0       (0, 0, 0, 0, 0, 0, 0, 0, 0)       0  \n1       (0, 0, 0, 0, 1, 0, 0, 0, 0)       0  \n2      (-1, 0, 0, 0, 1, 0, 0, 0, 0)       0  \n3      (-1, 0, 0, 0, 1, 1, 0, 0, 0)       0  \n4     (-1, 0, 0, -1, 1, 1, 0, 0, 0)       0  \n5     (-1, 0, 0, -1, 1, 1, 1, 0, 0)       0  \n6    (-1, 0, -1, -1, 1, 1, 1, 0, 0)       0  \n7    (-1, 1, -1, -1, 1, 1, 1, 0, 0)       0  \n8   (-1, 1, -1, -1, 1, 1, 1, -1, 0)       0  \n9   (-1, 1, -1, -1, 1, 1, 1, -1, 1)       0  \n10  (-1, 1, -1, -1, 1, 1, 1, -1, 1)       0  ",
      "text/html": "<div>\n<style scoped>\n    .dataframe tbody tr th:only-of-type {\n        vertical-align: middle;\n    }\n\n    .dataframe tbody tr th {\n        vertical-align: top;\n    }\n\n    .dataframe thead th {\n        text-align: right;\n    }\n</style>\n<table border=\"1\" class=\"dataframe\">\n  <thead>\n    <tr style=\"text-align: right;\">\n      <th></th>\n      <th>player</th>\n      <th>action_space</th>\n      <th>action</th>\n      <th>state</th>\n      <th>winner</th>\n    </tr>\n  </thead>\n  <tbody>\n    <tr>\n      <th>0</th>\n      <td>NaN</td>\n      <td>None</td>\n      <td>NaN</td>\n      <td>(0, 0, 0, 0, 0, 0, 0, 0, 0)</td>\n      <td>0</td>\n    </tr>\n    <tr>\n      <th>1</th>\n      <td>1.0</td>\n      <td>{0, 1, 2, 3, 4, 5, 6, 7, 8}</td>\n      <td>4.0</td>\n      <td>(0, 0, 0, 0, 1, 0, 0, 0, 0)</td>\n      <td>0</td>\n    </tr>\n    <tr>\n      <th>2</th>\n      <td>-1.0</td>\n      <td>{0, 1, 2, 3, 5, 6, 7, 8}</td>\n      <td>0.0</td>\n      <td>(-1, 0, 0, 0, 1, 0, 0, 0, 0)</td>\n      <td>0</td>\n    </tr>\n    <tr>\n      <th>3</th>\n      <td>1.0</td>\n      <td>{1, 2, 3, 5, 6, 7, 8}</td>\n      <td>5.0</td>\n      <td>(-1, 0, 0, 0, 1, 1, 0, 0, 0)</td>\n      <td>0</td>\n    </tr>\n    <tr>\n      <th>4</th>\n      <td>-1.0</td>\n      <td>{1, 2, 3, 6, 7, 8}</td>\n      <td>3.0</td>\n      <td>(-1, 0, 0, -1, 1, 1, 0, 0, 0)</td>\n      <td>0</td>\n    </tr>\n    <tr>\n      <th>5</th>\n      <td>1.0</td>\n      <td>{1, 2, 6, 7, 8}</td>\n      <td>6.0</td>\n      <td>(-1, 0, 0, -1, 1, 1, 1, 0, 0)</td>\n      <td>0</td>\n    </tr>\n    <tr>\n      <th>6</th>\n      <td>-1.0</td>\n      <td>{8, 1, 2, 7}</td>\n      <td>2.0</td>\n      <td>(-1, 0, -1, -1, 1, 1, 1, 0, 0)</td>\n      <td>0</td>\n    </tr>\n    <tr>\n      <th>7</th>\n      <td>1.0</td>\n      <td>{8, 1, 7}</td>\n      <td>1.0</td>\n      <td>(-1, 1, -1, -1, 1, 1, 1, 0, 0)</td>\n      <td>0</td>\n    </tr>\n    <tr>\n      <th>8</th>\n      <td>-1.0</td>\n      <td>{8, 7}</td>\n      <td>7.0</td>\n      <td>(-1, 1, -1, -1, 1, 1, 1, -1, 0)</td>\n      <td>0</td>\n    </tr>\n    <tr>\n      <th>9</th>\n      <td>1.0</td>\n      <td>{8}</td>\n      <td>8.0</td>\n      <td>(-1, 1, -1, -1, 1, 1, 1, -1, 1)</td>\n      <td>0</td>\n    </tr>\n    <tr>\n      <th>10</th>\n      <td>NaN</td>\n      <td>{}</td>\n      <td>NaN</td>\n      <td>(-1, 1, -1, -1, 1, 1, 1, -1, 1)</td>\n      <td>0</td>\n    </tr>\n  </tbody>\n</table>\n</div>"
     },
     "execution_count": 14,
     "metadata": {},
     "output_type": "execute_result"
    }
   ],
   "source": [
    "pd.DataFrame(tape)"
   ]
  },
  {
   "cell_type": "markdown",
   "metadata": {
    "collapsed": false
   },
   "source": [
    "# Run Simulations"
   ]
  },
  {
   "cell_type": "code",
   "execution_count": 15,
   "metadata": {
    "collapsed": false,
    "nbdime-conflicts": {
     "local_diff": [
      {
       "diff": [
        {
         "diff": [
          {
           "key": 0,
           "length": 1,
           "op": "removerange"
          }
         ],
         "key": "end_time",
         "op": "patch"
        },
        {
         "diff": [
          {
           "diff": [
            {
             "key": 8,
             "op": "addrange",
             "valuelist": "1"
            },
            {
             "key": 8,
             "length": 1,
             "op": "removerange"
            },
            {
             "key": 12,
             "op": "addrange",
             "valuelist": "9:"
            },
            {
             "key": 13,
             "op": "addrange",
             "valuelist": "6"
            },
            {
             "key": 14,
             "op": "addrange",
             "valuelist": "37."
            },
            {
             "key": 14,
             "length": 1,
             "op": "removerange"
            },
            {
             "key": 16,
             "length": 1,
             "op": "removerange"
            },
            {
             "key": 19,
             "length": 3,
             "op": "removerange"
            },
            {
             "key": 23,
             "op": "addrange",
             "valuelist": "8"
            },
            {
             "key": 23,
             "length": 2,
             "op": "removerange"
            }
           ],
           "key": 0,
           "op": "patch"
          }
         ],
         "key": "start_time",
         "op": "patch"
        }
       ],
       "key": "ExecuteTime",
       "op": "patch"
      }
     ],
     "remote_diff": [
      {
       "diff": [
        {
         "diff": [
          {
           "diff": [
            {
             "key": 8,
             "op": "addrange",
             "valuelist": "1"
            },
            {
             "key": 8,
             "length": 1,
             "op": "removerange"
            },
            {
             "key": 11,
             "op": "addrange",
             "valuelist": "1"
            },
            {
             "key": 12,
             "op": "addrange",
             "valuelist": ":17"
            },
            {
             "key": 12,
             "length": 1,
             "op": "removerange"
            },
            {
             "key": 15,
             "op": "addrange",
             "valuelist": "4"
            },
            {
             "key": 15,
             "length": 4,
             "op": "removerange"
            },
            {
             "key": 20,
             "op": "addrange",
             "valuelist": "4"
            },
            {
             "key": 21,
             "length": 1,
             "op": "removerange"
            },
            {
             "key": 23,
             "length": 1,
             "op": "removerange"
            },
            {
             "key": 26,
             "op": "addrange",
             "valuelist": "5"
            }
           ],
           "key": 0,
           "op": "patch"
          }
         ],
         "key": "end_time",
         "op": "patch"
        },
        {
         "diff": [
          {
           "key": 0,
           "length": 1,
           "op": "removerange"
          }
         ],
         "key": "start_time",
         "op": "patch"
        }
       ],
       "key": "ExecuteTime",
       "op": "patch"
      }
     ]
    },
    "ExecuteTime": {
     "end_time": "2024-01-14T11:54:02.189229700Z",
     "start_time": "2024-01-14T11:54:01.913357400Z"
    }
   },
   "outputs": [],
   "source": [
    "def simulate(round, player_policy_map, start_player=None):\n",
    "    player_policy_map[0] = DummyPolicy(name='Tie')\n",
    "    win_count = {policy.get_name(): 0 for policy in player_policy_map.values()}\n",
    "    for episode in trange(round):\n",
    "        ttt.reset(start_player=start_player or random.choice([-1, 1]))\n",
    "        tape = play(ttt, policy=player_policy_map)\n",
    "        win_count[player_policy_map[ttt.get_winner()].get_name()] += 1\n",
    "    return win_count"
   ]
  },
  {
   "cell_type": "code",
   "execution_count": 16,
   "metadata": {
    "collapsed": false,
    "nbdime-conflicts": {
     "local_diff": [
      {
       "diff": [
        {
         "diff": [
          {
           "diff": [
            {
             "key": 8,
             "op": "addrange",
             "valuelist": "1"
            },
            {
             "key": 8,
             "length": 1,
             "op": "removerange"
            },
            {
             "key": 11,
             "op": "addrange",
             "valuelist": "1"
            },
            {
             "key": 12,
             "length": 1,
             "op": "removerange"
            },
            {
             "key": 15,
             "op": "addrange",
             "valuelist": "3"
            },
            {
             "key": 15,
             "length": 1,
             "op": "removerange"
            },
            {
             "key": 17,
             "op": "addrange",
             "valuelist": "49"
            },
            {
             "key": 17,
             "length": 2,
             "op": "removerange"
            },
            {
             "key": 21,
             "op": "addrange",
             "valuelist": "5"
            },
            {
             "key": 21,
             "length": 1,
             "op": "removerange"
            },
            {
             "key": 23,
             "op": "addrange",
             "valuelist": "8"
            },
            {
             "key": 24,
             "op": "addrange",
             "valuelist": "1"
            },
            {
             "key": 24,
             "length": 2,
             "op": "removerange"
            }
           ],
           "key": 0,
           "op": "patch"
          }
         ],
         "key": "end_time",
         "op": "patch"
        },
        {
         "diff": [
          {
           "diff": [
            {
             "key": 8,
             "op": "addrange",
             "valuelist": "1"
            },
            {
             "key": 8,
             "length": 1,
             "op": "removerange"
            },
            {
             "key": 12,
             "op": "addrange",
             "valuelist": "9"
            },
            {
             "key": 12,
             "length": 1,
             "op": "removerange"
            },
            {
             "key": 17,
             "op": "addrange",
             "valuelist": "56."
            },
            {
             "key": 18,
             "length": 3,
             "op": "removerange"
            },
            {
             "key": 23,
             "op": "addrange",
             "valuelist": "787"
            },
            {
             "key": 23,
             "length": 3,
             "op": "removerange"
            }
           ],
           "key": 0,
           "op": "patch"
          }
         ],
         "key": "start_time",
         "op": "patch"
        }
       ],
       "key": "ExecuteTime",
       "op": "patch"
      }
     ],
     "remote_diff": [
      {
       "diff": [
        {
         "diff": [
          {
           "key": 0,
           "length": 1,
           "op": "removerange"
          }
         ],
         "key": "end_time",
         "op": "patch"
        },
        {
         "diff": [
          {
           "key": 0,
           "length": 1,
           "op": "removerange"
          }
         ],
         "key": "start_time",
         "op": "patch"
        }
       ],
       "key": "ExecuteTime",
       "op": "patch"
      }
     ]
    },
    "ExecuteTime": {
     "end_time": "2024-01-14T11:54:24.593989700Z",
     "start_time": "2024-01-14T11:54:23.212063200Z"
    }
   },
   "outputs": [
    {
     "data": {
      "text/plain": "  0%|          | 0/100 [00:00<?, ?it/s]",
      "application/vnd.jupyter.widget-view+json": {
       "version_major": 2,
       "version_minor": 0,
       "model_id": "3c3cfaf1418045bdab70caef5acd1129"
      }
     },
     "metadata": {},
     "output_type": "display_data"
    },
    {
     "data": {
      "text/plain": "  0%|          | 0/100 [00:00<?, ?it/s]",
      "application/vnd.jupyter.widget-view+json": {
       "version_major": 2,
       "version_minor": 0,
       "model_id": "d2c9601e2ddb4f51b3c19670ec7ed540"
      }
     },
     "metadata": {},
     "output_type": "display_data"
    },
    {
     "data": {
      "text/plain": "  0%|          | 0/100 [00:00<?, ?it/s]",
      "application/vnd.jupyter.widget-view+json": {
       "version_major": 2,
       "version_minor": 0,
       "model_id": "db1efb2a07f1464080508c2b6d7d8b96"
      }
     },
     "metadata": {},
     "output_type": "display_data"
    },
    {
     "data": {
      "text/plain": "  0%|          | 0/100 [00:00<?, ?it/s]",
      "application/vnd.jupyter.widget-view+json": {
       "version_major": 2,
       "version_minor": 0,
       "model_id": "2e39916bb8444b74a0bec1fc2a3dc1cb"
      }
     },
     "metadata": {},
     "output_type": "display_data"
    },
    {
     "data": {
      "text/plain": "   Random Policy  MLP Policy  Tie      Player -1       Player 1   Start Player\n0             16          73   11     MLP Policy  Random Policy  Random Policy\n1              2          93    5     MLP Policy  Random Policy     MLP Policy\n2              1          95    4  Random Policy     MLP Policy     MLP Policy\n3             11          81    8  Random Policy     MLP Policy  Random Policy",
      "text/html": "<div>\n<style scoped>\n    .dataframe tbody tr th:only-of-type {\n        vertical-align: middle;\n    }\n\n    .dataframe tbody tr th {\n        vertical-align: top;\n    }\n\n    .dataframe thead th {\n        text-align: right;\n    }\n</style>\n<table border=\"1\" class=\"dataframe\">\n  <thead>\n    <tr style=\"text-align: right;\">\n      <th></th>\n      <th>Random Policy</th>\n      <th>MLP Policy</th>\n      <th>Tie</th>\n      <th>Player -1</th>\n      <th>Player 1</th>\n      <th>Start Player</th>\n    </tr>\n  </thead>\n  <tbody>\n    <tr>\n      <th>0</th>\n      <td>16</td>\n      <td>73</td>\n      <td>11</td>\n      <td>MLP Policy</td>\n      <td>Random Policy</td>\n      <td>Random Policy</td>\n    </tr>\n    <tr>\n      <th>1</th>\n      <td>2</td>\n      <td>93</td>\n      <td>5</td>\n      <td>MLP Policy</td>\n      <td>Random Policy</td>\n      <td>MLP Policy</td>\n    </tr>\n    <tr>\n      <th>2</th>\n      <td>1</td>\n      <td>95</td>\n      <td>4</td>\n      <td>Random Policy</td>\n      <td>MLP Policy</td>\n      <td>MLP Policy</td>\n    </tr>\n    <tr>\n      <th>3</th>\n      <td>11</td>\n      <td>81</td>\n      <td>8</td>\n      <td>Random Policy</td>\n      <td>MLP Policy</td>\n      <td>Random Policy</td>\n    </tr>\n  </tbody>\n</table>\n</div>"
     },
     "execution_count": 16,
     "metadata": {},
     "output_type": "execute_result"
    }
   ],
   "source": [
    "policy_1 = RandomPolicy(name='Random Policy')\n",
    "# policy_1 = q_table_policy\n",
    "policy_2 = mlp_policy\n",
    "\n",
    "result_list = []\n",
    "for p1_role, start_player in [[1, 1], [1, -1], [-1, 1], [-1, -1]]:\n",
    "    policy_map = {1*p1_role: policy_1, -1*p1_role: policy_2}\n",
    "    result = simulate(100, policy_map, start_player=start_player)\n",
    "    result['Player -1'] = policy_map[-1].get_name()\n",
    "    result['Player 1'] = policy_map[1].get_name()\n",
    "    result['Start Player'] = policy_map.get(start_player).get_name()\n",
    "    result_list.append(result)\n",
    "pd.DataFrame(result_list)"
   ]
  },
  {
   "cell_type": "code",
   "execution_count": null,
   "metadata": {
    "collapsed": false
   },
   "outputs": [],
   "source": []
  }
 ],
 "metadata": {
  "deepnote": {},
  "deepnote_execution_queue": [],
  "deepnote_notebook_id": "1afec097b95f478fbf952ec9418e290f",
  "kernelspec": {
   "display_name": "Python 3 (ipykernel)",
   "language": "python",
   "name": "python3"
  }
 },
 "nbformat": 4,
 "nbformat_minor": 0
}
