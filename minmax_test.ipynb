{
 "cells": [
  {
   "cell_type": "code",
   "execution_count": null,
   "id": "initial_id",
   "metadata": {
    "collapsed": true
   },
   "outputs": [],
   "source": [
    "from copy import deepcopy\n",
    "from src import *\n",
    "import numpy as np\n",
    "\n",
    "\n",
    "class MinMax:\n",
    "    def __init__(self, game):\n",
    "        self.game = game\n",
    "        self.original_player = game.player\n",
    "\n",
    "    def min_max(self, game, is_max_player):\n",
    "        if game.is_terminated():\n",
    "            winner = game.get_winner()\n",
    "            if winner == self.original_player:\n",
    "                return None, 1\n",
    "            elif winner == 0:\n",
    "                return None, 0\n",
    "            else:\n",
    "                return None, -1\n",
    "\n",
    "        if is_max_player:\n",
    "            best_score = -float('inf')\n",
    "            best_action = None\n",
    "            for action in game.get_actions():\n",
    "                new_game = game.clone()\n",
    "                print(\"当前的action: \", action)\n",
    "                new_game.move(action)\n",
    "                print(\"当前递归的玩家： \", new_game.player)\n",
    "                _, score = self.min_max(new_game, False)\n",
    "                if score > best_score:\n",
    "                    best_score = score\n",
    "                    best_action = action\n",
    "                print(\"max_player: \", new_game.player, \"bset_action: \", best_action, \"best_score: \", best_score)\n",
    "            return best_action, best_score\n",
    "        else:\n",
    "            best_score = float('inf')\n",
    "            best_action = None\n",
    "            for action in game.get_actions():\n",
    "                new_game = game.clone()\n",
    "                print(\"当前的action: \", action)\n",
    "                new_game.move(action)\n",
    "                print(\"当前递归的玩家： \", new_game.player)\n",
    "                _, score = self.min_max(new_game, True)\n",
    "                if score < best_score:\n",
    "                    best_score = score\n",
    "                    best_action = action\n",
    "                print(\"min_player: \", new_game.player, \"bset_action: \", best_action, \"best_score: \", best_score)\n",
    "            return best_action, best_score\n",
    "\n",
    "    def best_move(self):\n",
    "        is_max_player = self.game.player\n",
    "        action, _ = self.min_max(self.game,  True)\n",
    "        print(\"传进来的玩家: \", self.original_player)\n",
    "        return action"
   ]
  }
 ],
 "metadata": {
  "kernelspec": {
   "display_name": "Python 3",
   "language": "python",
   "name": "python3"
  },
  "language_info": {
   "codemirror_mode": {
    "name": "ipython",
    "version": 2
   },
   "file_extension": ".py",
   "mimetype": "text/x-python",
   "name": "python",
   "nbconvert_exporter": "python",
   "pygments_lexer": "ipython2",
   "version": "2.7.6"
  }
 },
 "nbformat": 4,
 "nbformat_minor": 5
}
