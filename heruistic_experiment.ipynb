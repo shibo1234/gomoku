{
 "cells": [
  {
   "cell_type": "code",
   "execution_count": 1,
   "id": "initial_id",
   "metadata": {
    "collapsed": true,
    "ExecuteTime": {
     "end_time": "2024-01-16T02:46:46.887062Z",
     "start_time": "2024-01-16T02:46:45.507217Z"
    }
   },
   "outputs": [],
   "source": [
    "import more_itertools as mit\n",
    "import numpy as np\n",
    "import torch\n",
    "import math\n",
    "import timeit"
   ]
  },
  {
   "cell_type": "code",
   "outputs": [],
   "source": [
    "state = (-1, 1, -1, 1, 0, 0, 0, 0, 1)"
   ],
   "metadata": {
    "collapsed": false,
    "ExecuteTime": {
     "end_time": "2024-01-16T02:46:54.393854Z",
     "start_time": "2024-01-16T02:46:54.387824Z"
    }
   },
   "id": "43bda5327a114837",
   "execution_count": 2
  },
  {
   "cell_type": "code",
   "outputs": [],
   "source": [
    "def line_py_gt(state):\n",
    "    for i in (0, 1, 2):\n",
    "        yield state[i], state[i + 3], state[i + 6]\n",
    "    for i in (0, 3, 6):\n",
    "        yield state[i], state[i + 1], state[i + 2]\n",
    "    for i in (0,):\n",
    "        yield state[i], state[i + 4], state[i + 8]\n",
    "    for i in (2,):\n",
    "        yield state[i], state[i + 2], state[i + 4]"
   ],
   "metadata": {
    "collapsed": false,
    "ExecuteTime": {
     "end_time": "2024-01-16T02:47:01.129954Z",
     "start_time": "2024-01-16T02:47:01.120846Z"
    }
   },
   "id": "e7f0bf17ddf4d93a",
   "execution_count": 3
  },
  {
   "cell_type": "code",
   "outputs": [
    {
     "name": "stdout",
     "output_type": "stream",
     "text": [
      "1.02 µs ± 279 ns per loop (mean ± std. dev. of 7 runs, 100,000 loops each)\n"
     ]
    }
   ],
   "source": [
    "%%timeit -n 100000\n",
    "list(line_py_gt(state))"
   ],
   "metadata": {
    "collapsed": false,
    "ExecuteTime": {
     "end_time": "2024-01-16T02:47:03.239256Z",
     "start_time": "2024-01-16T02:47:02.546046Z"
    }
   },
   "id": "5737da3d94472fdf",
   "execution_count": 4
  },
  {
   "cell_type": "code",
   "outputs": [],
   "source": [
    "s = 3\n",
    "sm1 = 2\n",
    "s2 = 9\n",
    "s2m1 = 8\n",
    "sp1 = 4\n",
    "def line_py(state):\n",
    "    for i in range(0, s2, s):\n",
    "        yield state[i:i+s]\n",
    "    for i in range(s):\n",
    "        yield state[i::s]\n",
    "    yield state[::sp1]\n",
    "    yield state[sm1:s2m1:sm1]"
   ],
   "metadata": {
    "collapsed": false,
    "ExecuteTime": {
     "end_time": "2024-01-16T02:47:29.518242Z",
     "start_time": "2024-01-16T02:47:29.495534Z"
    }
   },
   "id": "911f9b40217271fc",
   "execution_count": 5
  },
  {
   "cell_type": "code",
   "outputs": [
    {
     "name": "stdout",
     "output_type": "stream",
     "text": [
      "958 ns ± 285 ns per loop (mean ± std. dev. of 7 runs, 100,000 loops each)\n"
     ]
    }
   ],
   "source": [
    "%%timeit -n 100000\n",
    "list(line_py(state))"
   ],
   "metadata": {
    "collapsed": false,
    "ExecuteTime": {
     "end_time": "2024-01-16T02:47:31.042827Z",
     "start_time": "2024-01-16T02:47:30.431397Z"
    }
   },
   "id": "4f72a5a24a0967b0",
   "execution_count": 6
  },
  {
   "cell_type": "code",
   "outputs": [],
   "source": [
    "index = list(line_py(list(range(9))))\n",
    "def line_py_indexed(state):\n",
    "    for i, j, k in index:\n",
    "        yield state[i], state[j], state[k]"
   ],
   "metadata": {
    "collapsed": false,
    "ExecuteTime": {
     "end_time": "2024-01-16T02:47:39.632456Z",
     "start_time": "2024-01-16T02:47:39.620042Z"
    }
   },
   "id": "dfff4d500dc4eab2",
   "execution_count": 7
  },
  {
   "cell_type": "code",
   "outputs": [
    {
     "name": "stdout",
     "output_type": "stream",
     "text": [
      "784 ns ± 165 ns per loop (mean ± std. dev. of 7 runs, 100,000 loops each)\n"
     ]
    }
   ],
   "source": [
    "%%timeit -n 100000\n",
    "list(line_py_indexed(state))"
   ],
   "metadata": {
    "collapsed": false,
    "ExecuteTime": {
     "end_time": "2024-01-16T02:47:40.610231Z",
     "start_time": "2024-01-16T02:47:40.073681Z"
    }
   },
   "id": "19596df5f722d6ba",
   "execution_count": 8
  },
  {
   "cell_type": "code",
   "outputs": [],
   "source": [
    "def line_np(state):\n",
    "    raw_state = np.array(state).reshape(-1, 3)\n",
    "    rel_state = 2 * (raw_state == 1) - (raw_state != 0)\n",
    "    return np.concatenate([\n",
    "        rel_state, rel_state.T,\n",
    "        np.stack([np.diag(rel_state), np.diag(np.fliplr(rel_state))])\n",
    "    ], axis=0)"
   ],
   "metadata": {
    "collapsed": false,
    "ExecuteTime": {
     "end_time": "2024-01-16T02:47:51.873135Z",
     "start_time": "2024-01-16T02:47:51.846016Z"
    }
   },
   "id": "aa5b2c663f4a28a5",
   "execution_count": 9
  },
  {
   "cell_type": "code",
   "outputs": [
    {
     "name": "stdout",
     "output_type": "stream",
     "text": [
      "12.3 µs ± 3.84 µs per loop (mean ± std. dev. of 7 runs, 10,000 loops each)\n"
     ]
    }
   ],
   "source": [
    "%%timeit -n 10000\n",
    "list(line_np(state))"
   ],
   "metadata": {
    "collapsed": false,
    "ExecuteTime": {
     "end_time": "2024-01-16T02:47:53.255411Z",
     "start_time": "2024-01-16T02:47:52.568206Z"
    }
   },
   "id": "52b697f03e132563",
   "execution_count": 10
  },
  {
   "cell_type": "code",
   "outputs": [],
   "source": [
    "def line_torch(state):\n",
    "    raw_state = torch.tensor(state).view(-1, 3)\n",
    "    rel_state = 2 * (raw_state == 1) - 1 * (raw_state != 0)\n",
    "    return torch.cat([\n",
    "        rel_state, rel_state.T,\n",
    "        torch.stack([rel_state.diag(), rel_state.fliplr().diag()])\n",
    "    ], dim=0)"
   ],
   "metadata": {
    "collapsed": false,
    "ExecuteTime": {
     "end_time": "2024-01-16T02:47:56.570067Z",
     "start_time": "2024-01-16T02:47:56.558954Z"
    }
   },
   "id": "1ce25e64008ad170",
   "execution_count": 11
  },
  {
   "cell_type": "code",
   "outputs": [
    {
     "name": "stdout",
     "output_type": "stream",
     "text": [
      "26.8 µs ± 2.74 µs per loop (mean ± std. dev. of 7 runs, 10,000 loops each)\n"
     ]
    }
   ],
   "source": [
    "%%timeit -n 10000\n",
    "list(line_torch(state))"
   ],
   "metadata": {
    "collapsed": false,
    "ExecuteTime": {
     "end_time": "2024-01-16T02:47:58.985531Z",
     "start_time": "2024-01-16T02:47:57.058440Z"
    }
   },
   "id": "c341b3a23ebeca54",
   "execution_count": 12
  },
  {
   "cell_type": "code",
   "outputs": [],
   "source": [
    "def line_test(state):\n",
    "    curr_state = np.array(state).reshape(3, 3)\n",
    "    temp_state = curr_state.copy()\n",
    "\n",
    "    curr_state[temp_state == 1] = 1\n",
    "    curr_state[(temp_state != 1) & (temp_state != 0)] = -1\n",
    "\n",
    "    return list(curr_state[:]) + list(curr_state.T[:]) + [np.diag(curr_state)] + [np.diag(np.fliplr(curr_state))]"
   ],
   "metadata": {
    "collapsed": false,
    "ExecuteTime": {
     "end_time": "2024-01-16T02:48:04.622266Z",
     "start_time": "2024-01-16T02:48:04.614425Z"
    }
   },
   "id": "c87f20dca3f171e5",
   "execution_count": 13
  },
  {
   "cell_type": "code",
   "outputs": [
    {
     "name": "stdout",
     "output_type": "stream",
     "text": [
      "8.35 µs ± 3.82 µs per loop (mean ± std. dev. of 7 runs, 10,000 loops each)\n"
     ]
    }
   ],
   "source": [
    "%%timeit -n 10000\n",
    "list(line_test(state))"
   ],
   "metadata": {
    "collapsed": false,
    "ExecuteTime": {
     "end_time": "2024-01-16T02:48:05.759842Z",
     "start_time": "2024-01-16T02:48:05.170179Z"
    }
   },
   "id": "cbdb7c67c9cb57d2",
   "execution_count": 14
  },
  {
   "cell_type": "markdown",
   "source": [
    "# Benchmark get_v"
   ],
   "metadata": {
    "collapsed": false
   },
   "id": "69e41e6124ced5f1"
  },
  {
   "cell_type": "code",
   "outputs": [],
   "source": [
    "lines = list(line_py_gt(state))"
   ],
   "metadata": {
    "collapsed": false,
    "ExecuteTime": {
     "end_time": "2024-01-16T02:49:19.087435Z",
     "start_time": "2024-01-16T02:49:19.078680Z"
    }
   },
   "id": "4532d6cd3c4621b7",
   "execution_count": 15
  },
  {
   "cell_type": "code",
   "outputs": [],
   "source": [
    "def get_v_py_gt(lines):\n",
    "    p1 = p2 = a1 = a2 = 0\n",
    "    for line in lines:\n",
    "        p_count = line.count(1)\n",
    "        a_count = line.count(-1)\n",
    "        if p_count == 2 and a_count == 0:\n",
    "            p2 += 1\n",
    "        if p_count == 1 and a_count == 0:\n",
    "            p1 += 1\n",
    "        if p_count == 0 and a_count == 2:\n",
    "            a2 += 1\n",
    "        if p_count == 0 and a_count == 1:\n",
    "            a1 += 1\n",
    "    return 3 * p2 + p1 - (3 * a2 + a1)"
   ],
   "metadata": {
    "collapsed": false,
    "ExecuteTime": {
     "end_time": "2024-01-16T02:49:21.375705Z",
     "start_time": "2024-01-16T02:49:21.366264Z"
    }
   },
   "id": "70aa130c6d3f68dc",
   "execution_count": 16
  },
  {
   "cell_type": "code",
   "outputs": [
    {
     "name": "stdout",
     "output_type": "stream",
     "text": [
      "1.57 µs ± 320 ns per loop (mean ± std. dev. of 7 runs, 100,000 loops each)\n"
     ]
    }
   ],
   "source": [
    "%%timeit -n 100000\n",
    "get_v_py_gt(lines)"
   ],
   "metadata": {
    "collapsed": false,
    "ExecuteTime": {
     "end_time": "2024-01-16T02:49:23.327085Z",
     "start_time": "2024-01-16T02:49:22.268684Z"
    }
   },
   "id": "1bdeaff46f3da563",
   "execution_count": 17
  },
  {
   "cell_type": "code",
   "outputs": [],
   "source": [
    "def get_v_fast(lines):\n",
    "    score = 0\n",
    "    for line in lines:\n",
    "        p_count = line.count(1)\n",
    "        a_count = line.count(-1)\n",
    "        if a_count == 0:\n",
    "            if p_count == 2:\n",
    "                score += 3\n",
    "            elif p_count == 1:\n",
    "                score += 1\n",
    "        elif p_count == 0:\n",
    "            if a_count == 2:\n",
    "                score -= 3\n",
    "            elif a_count == 1:\n",
    "                score -= 1\n",
    "    return score"
   ],
   "metadata": {
    "collapsed": false,
    "ExecuteTime": {
     "end_time": "2024-01-16T05:11:39.072615Z",
     "start_time": "2024-01-16T05:11:39.068434Z"
    }
   },
   "id": "47ac8a2659f8811",
   "execution_count": 26
  },
  {
   "cell_type": "code",
   "outputs": [
    {
     "name": "stdout",
     "output_type": "stream",
     "text": [
      "1.09 µs ± 230 ns per loop (mean ± std. dev. of 7 runs, 100,000 loops each)\n"
     ]
    }
   ],
   "source": [
    "%%timeit -n 100000\n",
    "get_v_fast(lines)"
   ],
   "metadata": {
    "collapsed": false,
    "ExecuteTime": {
     "end_time": "2024-01-16T05:11:42.039233Z",
     "start_time": "2024-01-16T05:11:41.288485Z"
    }
   },
   "id": "4e4d90026521cc19",
   "execution_count": 27
  },
  {
   "cell_type": "code",
   "outputs": [],
   "source": [
    "def get_v_math(lines):\n",
    "    score = 0\n",
    "    for line in lines:\n",
    "        p = math.prod(line)\n",
    "        s = sum(line)\n",
    "        abs_s = abs(s)\n",
    "        if abs_s == 2:\n",
    "            score += 3 * s / 2\n",
    "        if p == 0 and abs_s == 1:\n",
    "            score += s\n",
    "    return score"
   ],
   "metadata": {
    "collapsed": false,
    "ExecuteTime": {
     "end_time": "2024-01-16T02:49:34.591462Z",
     "start_time": "2024-01-16T02:49:34.581747Z"
    }
   },
   "id": "e5a2a121d88fbaef",
   "execution_count": 20
  },
  {
   "cell_type": "code",
   "outputs": [
    {
     "name": "stdout",
     "output_type": "stream",
     "text": [
      "1.64 µs ± 325 ns per loop (mean ± std. dev. of 7 runs, 100,000 loops each)\n"
     ]
    }
   ],
   "source": [
    "%%timeit -n 100000\n",
    "get_v_math(lines)"
   ],
   "metadata": {
    "collapsed": false,
    "ExecuteTime": {
     "end_time": "2024-01-16T02:49:36.679993Z",
     "start_time": "2024-01-16T02:49:35.533932Z"
    }
   },
   "id": "69245be0a7fae390",
   "execution_count": 21
  },
  {
   "cell_type": "code",
   "outputs": [],
   "source": [
    "def get_v_np(lines):\n",
    "    lines = np.array(lines)\n",
    "    sum_line = lines.sum(axis=1)\n",
    "    abs_sum_line = np.abs(sum_line)\n",
    "    prod_line = lines.prod(axis=1)\n",
    "    return np.sum(\n",
    "        + 3 * sum_line * (abs_sum_line == 2) / 2\n",
    "        + 1 * sum_line * ((prod_line == 0) & (abs_sum_line == 1))\n",
    "    )"
   ],
   "metadata": {
    "collapsed": false,
    "ExecuteTime": {
     "end_time": "2024-01-16T02:49:39.202050Z",
     "start_time": "2024-01-16T02:49:39.191977Z"
    }
   },
   "id": "838c8bc077a86e5a",
   "execution_count": 22
  },
  {
   "cell_type": "code",
   "outputs": [
    {
     "name": "stdout",
     "output_type": "stream",
     "text": [
      "12 µs ± 2.76 µs per loop (mean ± std. dev. of 7 runs, 10,000 loops each)\n"
     ]
    }
   ],
   "source": [
    "%%timeit -n 10000\n",
    "get_v_np(lines)"
   ],
   "metadata": {
    "collapsed": false,
    "ExecuteTime": {
     "end_time": "2024-01-16T02:49:40.358117Z",
     "start_time": "2024-01-16T02:49:39.517805Z"
    }
   },
   "id": "4b38db65b431b1f3",
   "execution_count": 23
  },
  {
   "cell_type": "code",
   "outputs": [],
   "source": [
    "def get_v_test(lines):\n",
    "    a1 = a2 = p1 = p2 = 0\n",
    "    for line in lines:\n",
    "        unique, counts = np.unique(line, return_counts=True)\n",
    "        counts_dict = dict(zip(unique, counts))\n",
    "        if 1 in counts_dict and -1 not in counts_dict:\n",
    "            if counts_dict[1] == 1:\n",
    "                p1 += 1\n",
    "            elif counts_dict[1] == 2:\n",
    "                p2 += 1\n",
    "        if -1 in counts_dict and 1 not in counts_dict:\n",
    "            if counts_dict[-1] == 1:\n",
    "                a1 += 1\n",
    "            elif counts_dict[-1] == 2:\n",
    "                a2 += 1\n",
    "\n",
    "    return p1 + p2 * 3 - a1 - a2 * 3"
   ],
   "metadata": {
    "collapsed": false,
    "ExecuteTime": {
     "end_time": "2024-01-16T02:49:49.313496Z",
     "start_time": "2024-01-16T02:49:49.309603Z"
    }
   },
   "id": "758729dd93d76385",
   "execution_count": 24
  },
  {
   "cell_type": "code",
   "outputs": [
    {
     "name": "stdout",
     "output_type": "stream",
     "text": [
      "48.5 µs ± 3.51 µs per loop (mean ± std. dev. of 7 runs, 10,000 loops each)\n"
     ]
    }
   ],
   "source": [
    "%%timeit -n 10000\n",
    "get_v_test(lines)"
   ],
   "metadata": {
    "collapsed": false,
    "ExecuteTime": {
     "end_time": "2024-01-16T02:49:53.155430Z",
     "start_time": "2024-01-16T02:49:49.754061Z"
    }
   },
   "id": "7f5838d45e3015f4",
   "execution_count": 25
  },
  {
   "cell_type": "code",
   "outputs": [],
   "source": [],
   "metadata": {
    "collapsed": false
   },
   "id": "21257c77dce4d491"
  }
 ],
 "metadata": {
  "kernelspec": {
   "display_name": "Python 3",
   "language": "python",
   "name": "python3"
  },
  "language_info": {
   "codemirror_mode": {
    "name": "ipython",
    "version": 2
   },
   "file_extension": ".py",
   "mimetype": "text/x-python",
   "name": "python",
   "nbconvert_exporter": "python",
   "pygments_lexer": "ipython2",
   "version": "2.7.6"
  }
 },
 "nbformat": 4,
 "nbformat_minor": 5
}
