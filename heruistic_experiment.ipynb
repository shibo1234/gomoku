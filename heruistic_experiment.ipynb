{
 "cells": [
  {
   "cell_type": "code",
   "execution_count": 1,
   "id": "initial_id",
   "metadata": {
    "collapsed": true,
    "ExecuteTime": {
     "end_time": "2024-01-16T01:21:09.838983Z",
     "start_time": "2024-01-16T01:21:08.255909Z"
    }
   },
   "outputs": [],
   "source": [
    "import more_itertools as mit\n",
    "import numpy as np\n",
    "import torch\n",
    "import math\n",
    "import timeit"
   ]
  },
  {
   "cell_type": "code",
   "outputs": [],
   "source": [
    "state = (-1, 1, -1, 1, 0, 0, 0, 0, 1)"
   ],
   "metadata": {
    "collapsed": false,
    "ExecuteTime": {
     "end_time": "2024-01-16T01:23:29.757773Z",
     "start_time": "2024-01-16T01:23:29.750577Z"
    }
   },
   "id": "43bda5327a114837",
   "execution_count": 3
  },
  {
   "cell_type": "code",
   "outputs": [],
   "source": [
    "def line_py_gt(state):\n",
    "    for i in (0, 1, 2):\n",
    "        yield state[i], state[i + 3], state[i + 6]\n",
    "    for i in (0, 3, 6):\n",
    "        yield state[i], state[i + 1], state[i + 2]\n",
    "    for i in (0,):\n",
    "        yield state[i], state[i + 4], state[i + 8]\n",
    "    for i in (2,):\n",
    "        yield state[i], state[i + 2], state[i + 4]"
   ],
   "metadata": {
    "collapsed": false,
    "ExecuteTime": {
     "end_time": "2024-01-16T01:23:30.821474Z",
     "start_time": "2024-01-16T01:23:30.815109Z"
    }
   },
   "id": "e7f0bf17ddf4d93a",
   "execution_count": 4
  },
  {
   "cell_type": "code",
   "outputs": [
    {
     "name": "stdout",
     "output_type": "stream",
     "text": [
      "907 ns ± 71.7 ns per loop (mean ± std. dev. of 7 runs, 100,000 loops each)\n"
     ]
    }
   ],
   "source": [
    "%%timeit -n 100000\n",
    "list(line_py_gt(state))"
   ],
   "metadata": {
    "collapsed": false,
    "ExecuteTime": {
     "end_time": "2024-01-16T01:23:32.107503Z",
     "start_time": "2024-01-16T01:23:31.470733Z"
    }
   },
   "id": "5737da3d94472fdf",
   "execution_count": 5
  },
  {
   "cell_type": "code",
   "outputs": [],
   "source": [
    "s = 3\n",
    "sm1 = 2\n",
    "s2 = 9\n",
    "s2m1 = 8\n",
    "sp1 = 4\n",
    "def line_py(state):\n",
    "    for i in range(0, s2, s):\n",
    "        yield state[i:i+s]\n",
    "    for i in range(s):\n",
    "        yield state[i::s]\n",
    "    yield state[::sp1]\n",
    "    yield state[sm1:s2m1:sm1]"
   ],
   "metadata": {
    "collapsed": false,
    "ExecuteTime": {
     "end_time": "2024-01-16T01:23:32.753337Z",
     "start_time": "2024-01-16T01:23:32.746870Z"
    }
   },
   "id": "911f9b40217271fc",
   "execution_count": 6
  },
  {
   "cell_type": "code",
   "outputs": [
    {
     "name": "stdout",
     "output_type": "stream",
     "text": [
      "1.04 µs ± 322 ns per loop (mean ± std. dev. of 7 runs, 100,000 loops each)\n"
     ]
    }
   ],
   "source": [
    "%%timeit -n 100000\n",
    "list(line_py(state))"
   ],
   "metadata": {
    "collapsed": false,
    "ExecuteTime": {
     "end_time": "2024-01-16T01:23:35.018232Z",
     "start_time": "2024-01-16T01:23:34.340232Z"
    }
   },
   "id": "4f72a5a24a0967b0",
   "execution_count": 7
  },
  {
   "cell_type": "code",
   "outputs": [],
   "source": [
    "index = list(line_py(list(range(9))))\n",
    "def line_py_indexed(state):\n",
    "    for i, j, k in index:\n",
    "        yield state[i], state[j], state[k]"
   ],
   "metadata": {
    "collapsed": false,
    "ExecuteTime": {
     "end_time": "2024-01-16T01:23:35.678980Z",
     "start_time": "2024-01-16T01:23:35.667791Z"
    }
   },
   "id": "dfff4d500dc4eab2",
   "execution_count": 8
  },
  {
   "cell_type": "code",
   "outputs": [
    {
     "name": "stdout",
     "output_type": "stream",
     "text": [
      "776 ns ± 110 ns per loop (mean ± std. dev. of 7 runs, 100,000 loops each)\n"
     ]
    }
   ],
   "source": [
    "%%timeit -n 100000\n",
    "list(line_py_indexed(state))"
   ],
   "metadata": {
    "collapsed": false,
    "ExecuteTime": {
     "end_time": "2024-01-16T01:23:36.916655Z",
     "start_time": "2024-01-16T01:23:36.377572Z"
    }
   },
   "id": "19596df5f722d6ba",
   "execution_count": 9
  },
  {
   "cell_type": "code",
   "outputs": [],
   "source": [
    "def line_np(state):\n",
    "    raw_state = np.array(state).reshape(-1, 3)\n",
    "    rel_state = 2 * (raw_state == 1) - (raw_state != 0)\n",
    "    return np.concatenate([\n",
    "        rel_state, rel_state.T,\n",
    "        np.stack([np.diag(rel_state), np.diag(np.fliplr(rel_state))])\n",
    "    ], axis=0)"
   ],
   "metadata": {
    "collapsed": false,
    "ExecuteTime": {
     "end_time": "2024-01-16T01:23:43.985544Z",
     "start_time": "2024-01-16T01:23:43.979024Z"
    }
   },
   "id": "aa5b2c663f4a28a5",
   "execution_count": 10
  },
  {
   "cell_type": "code",
   "outputs": [
    {
     "name": "stdout",
     "output_type": "stream",
     "text": [
      "9.63 µs ± 694 ns per loop (mean ± std. dev. of 7 runs, 10,000 loops each)\n"
     ]
    }
   ],
   "source": [
    "%%timeit -n 10000\n",
    "list(line_np(state))"
   ],
   "metadata": {
    "collapsed": false,
    "ExecuteTime": {
     "end_time": "2024-01-16T01:23:45.210356Z",
     "start_time": "2024-01-16T01:23:44.529907Z"
    }
   },
   "id": "52b697f03e132563",
   "execution_count": 11
  },
  {
   "cell_type": "code",
   "outputs": [],
   "source": [
    "def line_torch(state):\n",
    "    raw_state = torch.tensor(state).view(-1, 3)\n",
    "    rel_state = 2 * (raw_state == 1) - 1 * (raw_state != 0)\n",
    "    return torch.cat([\n",
    "        rel_state, rel_state.T,\n",
    "        torch.stack([rel_state.diag(), rel_state.fliplr().diag()])\n",
    "    ], dim=0)"
   ],
   "metadata": {
    "collapsed": false,
    "ExecuteTime": {
     "end_time": "2024-01-16T01:23:45.941302Z",
     "start_time": "2024-01-16T01:23:45.933181Z"
    }
   },
   "id": "1ce25e64008ad170",
   "execution_count": 12
  },
  {
   "cell_type": "code",
   "outputs": [
    {
     "name": "stdout",
     "output_type": "stream",
     "text": [
      "28.4 µs ± 1.16 µs per loop (mean ± std. dev. of 7 runs, 10,000 loops each)\n"
     ]
    }
   ],
   "source": [
    "%%timeit -n 10000\n",
    "list(line_torch(state))"
   ],
   "metadata": {
    "collapsed": false,
    "ExecuteTime": {
     "end_time": "2024-01-16T01:23:48.741670Z",
     "start_time": "2024-01-16T01:23:46.743052Z"
    }
   },
   "id": "c341b3a23ebeca54",
   "execution_count": 13
  },
  {
   "cell_type": "code",
   "outputs": [],
   "source": [
    "def line_test(state):\n",
    "    curr_state = np.array(state).reshape(3, 3)\n",
    "    temp_state = curr_state.copy()\n",
    "\n",
    "    curr_state[temp_state == 1] = 1\n",
    "    curr_state[(temp_state != 1) & (temp_state != 0)] = -1\n",
    "\n",
    "    return list(curr_state[:]) + list(curr_state.T[:]) + [np.diag(curr_state)] + [np.diag(np.fliplr(curr_state))]"
   ],
   "metadata": {
    "collapsed": false,
    "ExecuteTime": {
     "end_time": "2024-01-16T01:25:37.687326Z",
     "start_time": "2024-01-16T01:25:37.677723Z"
    }
   },
   "id": "c87f20dca3f171e5",
   "execution_count": 25
  },
  {
   "cell_type": "code",
   "outputs": [
    {
     "name": "stdout",
     "output_type": "stream",
     "text": [
      "7.49 µs ± 678 ns per loop (mean ± std. dev. of 7 runs, 10,000 loops each)\n"
     ]
    }
   ],
   "source": [
    "%%timeit -n 10000\n",
    "list(line_test(state))"
   ],
   "metadata": {
    "collapsed": false,
    "ExecuteTime": {
     "end_time": "2024-01-16T01:25:39.333047Z",
     "start_time": "2024-01-16T01:25:38.802420Z"
    }
   },
   "id": "cbdb7c67c9cb57d2",
   "execution_count": 26
  },
  {
   "cell_type": "markdown",
   "source": [
    "# Benchmark get_v"
   ],
   "metadata": {
    "collapsed": false
   },
   "id": "69e41e6124ced5f1"
  },
  {
   "cell_type": "code",
   "outputs": [],
   "source": [
    "lines = list(line_py_gt(state))"
   ],
   "metadata": {
    "collapsed": false,
    "ExecuteTime": {
     "end_time": "2024-01-16T01:23:52.016143Z",
     "start_time": "2024-01-16T01:23:52.008858Z"
    }
   },
   "id": "4532d6cd3c4621b7",
   "execution_count": 14
  },
  {
   "cell_type": "code",
   "outputs": [],
   "source": [
    "def get_v_py_gt(lines):\n",
    "    p1 = p2 = a1 = a2 = 0\n",
    "    for line in lines:\n",
    "        p_count = line.count(1)\n",
    "        a_count = line.count(-1)\n",
    "        if p_count == 2 and a_count == 0:\n",
    "            p2 += 1\n",
    "        if p_count == 1 and a_count == 0:\n",
    "            p1 += 1\n",
    "        if p_count == 0 and a_count == 2:\n",
    "            a2 += 1\n",
    "        if p_count == 0 and a_count == 1:\n",
    "            a1 += 1\n",
    "    return 3 * p2 + p1 - (3 * a2 + a1)"
   ],
   "metadata": {
    "collapsed": false,
    "ExecuteTime": {
     "end_time": "2024-01-16T01:23:58.834561Z",
     "start_time": "2024-01-16T01:23:58.823402Z"
    }
   },
   "id": "70aa130c6d3f68dc",
   "execution_count": 15
  },
  {
   "cell_type": "code",
   "outputs": [
    {
     "name": "stdout",
     "output_type": "stream",
     "text": [
      "1.32 µs ± 87.8 ns per loop (mean ± std. dev. of 7 runs, 100,000 loops each)\n"
     ]
    }
   ],
   "source": [
    "%%timeit -n 100000\n",
    "get_v_py_gt(lines)"
   ],
   "metadata": {
    "collapsed": false,
    "ExecuteTime": {
     "end_time": "2024-01-16T01:24:03.304417Z",
     "start_time": "2024-01-16T01:24:02.384883Z"
    }
   },
   "id": "1bdeaff46f3da563",
   "execution_count": 16
  },
  {
   "cell_type": "code",
   "outputs": [],
   "source": [
    "def get_v_fast(lines):\n",
    "    score = 0\n",
    "    for line in lines:\n",
    "        p_count = line.count(1)\n",
    "        a_count = line.count(-1)\n",
    "        if a_count == 0:\n",
    "            if p_count == 2:\n",
    "                score += 3\n",
    "            elif p_count == 1:\n",
    "                score += 1\n",
    "        if p_count == 0:\n",
    "            if a_count == 2:\n",
    "                score -= 3\n",
    "            elif a_count == 1:\n",
    "                score -= 1\n",
    "    return score"
   ],
   "metadata": {
    "collapsed": false,
    "ExecuteTime": {
     "end_time": "2024-01-16T01:24:07.220295Z",
     "start_time": "2024-01-16T01:24:07.211717Z"
    }
   },
   "id": "47ac8a2659f8811",
   "execution_count": 17
  },
  {
   "cell_type": "code",
   "outputs": [
    {
     "name": "stdout",
     "output_type": "stream",
     "text": [
      "1.05 µs ± 52.5 ns per loop (mean ± std. dev. of 7 runs, 100,000 loops each)\n"
     ]
    }
   ],
   "source": [
    "%%timeit -n 100000\n",
    "get_v_fast(lines)"
   ],
   "metadata": {
    "collapsed": false,
    "ExecuteTime": {
     "end_time": "2024-01-16T01:24:10.003588Z",
     "start_time": "2024-01-16T01:24:09.314262Z"
    }
   },
   "id": "4e4d90026521cc19",
   "execution_count": 18
  },
  {
   "cell_type": "code",
   "outputs": [],
   "source": [
    "def get_v_math(lines):\n",
    "    score = 0\n",
    "    for line in lines:\n",
    "        p = math.prod(line)\n",
    "        s = sum(line)\n",
    "        abs_s = abs(s)\n",
    "        if abs_s == 2:\n",
    "            score += 3 * s / 2\n",
    "        if p == 0 and abs_s == 1:\n",
    "            score += s\n",
    "    return score"
   ],
   "metadata": {
    "collapsed": false,
    "ExecuteTime": {
     "end_time": "2024-01-16T01:24:17.465107Z",
     "start_time": "2024-01-16T01:24:17.455521Z"
    }
   },
   "id": "e5a2a121d88fbaef",
   "execution_count": 19
  },
  {
   "cell_type": "code",
   "outputs": [
    {
     "name": "stdout",
     "output_type": "stream",
     "text": [
      "1.56 µs ± 64.5 ns per loop (mean ± std. dev. of 7 runs, 100,000 loops each)\n"
     ]
    }
   ],
   "source": [
    "%%timeit -n 100000\n",
    "get_v_math(lines)"
   ],
   "metadata": {
    "collapsed": false,
    "ExecuteTime": {
     "end_time": "2024-01-16T01:24:19.633069Z",
     "start_time": "2024-01-16T01:24:18.544921Z"
    }
   },
   "id": "69245be0a7fae390",
   "execution_count": 20
  },
  {
   "cell_type": "code",
   "outputs": [],
   "source": [
    "def get_v_np(lines):\n",
    "    lines = np.array(lines)\n",
    "    sum_line = lines.sum(axis=1)\n",
    "    abs_sum_line = np.abs(sum_line)\n",
    "    prod_line = lines.prod(axis=1)\n",
    "    return np.sum(\n",
    "        + 3 * sum_line * (abs_sum_line == 2) / 2\n",
    "        + 1 * sum_line * ((prod_line == 0) & (abs_sum_line == 1))\n",
    "    )"
   ],
   "metadata": {
    "collapsed": false,
    "ExecuteTime": {
     "end_time": "2024-01-16T01:24:31.210580Z",
     "start_time": "2024-01-16T01:24:31.204402Z"
    }
   },
   "id": "838c8bc077a86e5a",
   "execution_count": 23
  },
  {
   "cell_type": "code",
   "outputs": [
    {
     "name": "stdout",
     "output_type": "stream",
     "text": [
      "11.5 µs ± 670 ns per loop (mean ± std. dev. of 7 runs, 10,000 loops each)\n"
     ]
    }
   ],
   "source": [
    "%%timeit -n 10000\n",
    "get_v_np(lines)"
   ],
   "metadata": {
    "collapsed": false,
    "ExecuteTime": {
     "end_time": "2024-01-16T01:24:32.279662Z",
     "start_time": "2024-01-16T01:24:31.471396Z"
    }
   },
   "id": "4b38db65b431b1f3",
   "execution_count": 24
  },
  {
   "cell_type": "code",
   "outputs": [],
   "source": [
    "def get_v_test(lines):\n",
    "    a1 = a2 = p1 = p2 = 0\n",
    "    for line in lines:\n",
    "        unique, counts = np.unique(line, return_counts=True)\n",
    "        counts_dict = dict(zip(unique, counts))\n",
    "        if 1 in counts_dict and -1 not in counts_dict:\n",
    "            if counts_dict[1] == 1:\n",
    "                p1 += 1\n",
    "            elif counts_dict[1] == 2:\n",
    "                p2 += 1\n",
    "        if -1 in counts_dict and 1 not in counts_dict:\n",
    "            if counts_dict[-1] == 1:\n",
    "                a1 += 1\n",
    "            elif counts_dict[-1] == 2:\n",
    "                a2 += 1\n",
    "\n",
    "    return p1 + p2 * 3 - a1 - a2 * 3"
   ],
   "metadata": {
    "collapsed": false,
    "ExecuteTime": {
     "end_time": "2024-01-16T01:26:19.883052Z",
     "start_time": "2024-01-16T01:26:19.868682Z"
    }
   },
   "id": "758729dd93d76385",
   "execution_count": 27
  },
  {
   "cell_type": "code",
   "outputs": [
    {
     "name": "stdout",
     "output_type": "stream",
     "text": [
      "52.7 µs ± 3.26 µs per loop (mean ± std. dev. of 7 runs, 10,000 loops each)\n"
     ]
    }
   ],
   "source": [
    "%%timeit -n 10000\n",
    "get_v_test(lines)"
   ],
   "metadata": {
    "collapsed": false,
    "ExecuteTime": {
     "end_time": "2024-01-16T01:26:26.998973Z",
     "start_time": "2024-01-16T01:26:23.304309Z"
    }
   },
   "id": "7f5838d45e3015f4",
   "execution_count": 28
  },
  {
   "cell_type": "code",
   "outputs": [],
   "source": [],
   "metadata": {
    "collapsed": false
   },
   "id": "21257c77dce4d491"
  }
 ],
 "metadata": {
  "kernelspec": {
   "display_name": "Python 3",
   "language": "python",
   "name": "python3"
  },
  "language_info": {
   "codemirror_mode": {
    "name": "ipython",
    "version": 2
   },
   "file_extension": ".py",
   "mimetype": "text/x-python",
   "name": "python",
   "nbconvert_exporter": "python",
   "pygments_lexer": "ipython2",
   "version": "2.7.6"
  }
 },
 "nbformat": 4,
 "nbformat_minor": 5
}
