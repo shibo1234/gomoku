{
 "cells": [
  {
   "cell_type": "code",
   "execution_count": 76,
   "id": "initial_id",
   "metadata": {
    "collapsed": true,
    "ExecuteTime": {
     "end_time": "2024-01-16T22:16:54.103423Z",
     "start_time": "2024-01-16T22:16:54.100946Z"
    }
   },
   "outputs": [],
   "source": [
    "import random\n",
    "from copy import deepcopy\n",
    "import math\n",
    "from src import TicTacToe\n",
    "\n",
    "def player_formatter(player: int) -> str:\n",
    "    symbol_mapping = {0: \" \", 1: \"X\", -1: \"O\"}\n",
    "    return symbol_mapping[player]\n",
    "\n",
    "def state_formatter(state: tuple[int, ...]) -> str:\n",
    "    size = int(len(state) ** 0.5)\n",
    "    formatted_state = \"\\n\"\n",
    "    for i in range(size):\n",
    "        formatted_state += \"+---+---+---+\\n\"\n",
    "        row = state[i*size:(i+1)*size]\n",
    "        formatted_state += \"| \" + \" | \".join(player_formatter(cell)for cell in row) + \" |\\n\"\n",
    "    formatted_state += \"+---+---+---+\"\n",
    "    return formatted_state\n",
    "\n",
    "game_cls = TicTacToe(default_state_formatter=state_formatter)\n",
    "\n",
    "class TreeNode():\n",
    "    def __init__(self, game, parent):\n",
    "        self.game = game\n",
    "        self.state = game.get_state()\n",
    "        self.actions = game.get_actions()\n",
    "        self.is_terminated = game.is_terminated()\n",
    "        self.fully_expand = self.is_terminated\n",
    "        self.parent = parent\n",
    "        self.num_visited = 0\n",
    "        self.total_reward = 0\n",
    "        self.children = {}\n",
    "        self.visited = False\n",
    "\n",
    "\n",
    "class MCTS():\n",
    "    def __init__(self, game_cls, *args, **kwargs):\n",
    "        super().__init__(*args, **kwargs)\n",
    "        self.game_cls = game_cls\n",
    "        self.root = None\n",
    "        self.iteration = 2000\n",
    "        self.exploration_constant = 1 / math.sqrt(2)\n",
    "\n",
    "    def select_child(self, node):\n",
    "        while not node.is_terminated:\n",
    "            if node.fully_expand:\n",
    "                new_node = self.get_best_move(node, self.exploration_constant)\n",
    "                if new_node is None:\n",
    "                    raise Exception(\"No best move found\")\n",
    "                node = new_node\n",
    "            else:\n",
    "                return self.expand(node)\n",
    "        return node\n",
    "\n",
    "    def expand(self, node):\n",
    "        actions = node.actions\n",
    "        for action in actions:\n",
    "            if action not in node.children:\n",
    "                new_game = deepcopy(node.game)\n",
    "                new_game.move(action)\n",
    "                new_node = TreeNode(new_game, node)\n",
    "                node.children[action] = new_node\n",
    "                if len(actions) == len(node.children):\n",
    "                    node.fully_expand = True\n",
    "                return new_node\n",
    "        raise Exception(\"No actions to expand\")\n",
    "\n",
    "    def simulated_game(self, node):\n",
    "        node.visited = True\n",
    "        if math.factorial(len(node.game.get_actions())) <= self.iteration:\n",
    "            return self.simulate_by_brute_force(node)\n",
    "        else:\n",
    "            return self.simulate_by_sampling(node)\n",
    "\n",
    "    def simulate_by_brute_force(self, node):\n",
    "        if node.game.is_terminated():\n",
    "            return self.calculate_reward(node)\n",
    "        outcomes = []\n",
    "        for action in node.game.get_actions():\n",
    "            # new_game = deepcopy(node.game)\n",
    "            # new_game.move(action)\n",
    "            node.game.apply_action(action)\n",
    "            child_node = TreeNode(node.game, node)\n",
    "            outcome = self.simulated_game(child_node)\n",
    "            node.game.undo_action()\n",
    "            outcomes.append(outcome)\n",
    "        return max(outcomes)\n",
    "\n",
    "    def simulate_by_sampling(self, node):\n",
    "        new_game = deepcopy(node.game)\n",
    "        while not new_game.is_terminated():\n",
    "            possible_actions = new_game.get_actions()\n",
    "            action = random.choice(list(possible_actions))\n",
    "            new_game.move(action)\n",
    "\n",
    "        return self.calculate_reward(TreeNode(new_game, node))\n",
    "\n",
    "    def calculate_reward(self, node):\n",
    "        winner = node.game.get_winner()\n",
    "        if winner == node.game.player:\n",
    "            return -10\n",
    "        elif winner == 0:\n",
    "            return 0\n",
    "        else:\n",
    "            return 10\n",
    "\n",
    "    def execute_round(self):\n",
    "        node = self.select_child(self.root)\n",
    "        reward = self.simulated_game(node)\n",
    "        self.back_propogate(node, reward)\n",
    "\n",
    "    def back_propogate(self, node, reward):\n",
    "        while node is not None:\n",
    "            node.num_visited += 1\n",
    "            node.total_reward += reward\n",
    "            reward = -reward\n",
    "            node = node.parent\n",
    "\n",
    "    def get_best_move(self, node, exploration_constant):\n",
    "        best_value = float(\"-inf\")\n",
    "        best_nodes = []\n",
    "        for action, child in node.children.items():\n",
    "            node_value = (child.total_reward / child.num_visited\n",
    "                          + exploration_constant * math.sqrt(2 * math.log(node.num_visited) / child.num_visited))\n",
    "            if node_value > best_value:\n",
    "                best_value = node_value\n",
    "                best_nodes = [child]\n",
    "            elif node_value == best_value:\n",
    "                best_nodes.append(child)\n",
    "        return random.choice(best_nodes) if best_nodes else None\n",
    "\n",
    "    def get_all_Qs(self, state: tuple[int, ...], player: int, action_space: set[int]) -> dict[int, float]:\n",
    "        self.root = TreeNode(self.game_cls.from_state(state, player), None)\n",
    "        for _ in range(self.iteration):\n",
    "            self.execute_round()\n",
    "    \n",
    "        action_scores = {}\n",
    "        for action in action_space:\n",
    "            child_node = self.root.children.get(action)\n",
    "            if child_node is not None and child_node.num_visited > 0:\n",
    "                average_reward = child_node.total_reward / child_node.num_visited\n",
    "                action_scores[action] = average_reward\n",
    "            else:\n",
    "                action_scores[action] = 0\n",
    "    \n",
    "        return action_scores\n",
    "\n"
   ]
  },
  {
   "cell_type": "code",
   "outputs": [],
   "source": [
    "mcts_policy = MCTS(game_cls)\n",
    "game_cls.reset()"
   ],
   "metadata": {
    "collapsed": false,
    "ExecuteTime": {
     "end_time": "2024-01-16T22:16:54.858078Z",
     "start_time": "2024-01-16T22:16:54.852732Z"
    }
   },
   "id": "59d52889c77df3eb",
   "execution_count": 77
  },
  {
   "cell_type": "code",
   "outputs": [
    {
     "name": "stdout",
     "output_type": "stream",
     "text": [
      "\n",
      "+---+---+---+\n",
      "|   |   |   |\n",
      "+---+---+---+\n",
      "|   | X |   |\n",
      "+---+---+---+\n",
      "|   |   |   |\n",
      "+---+---+---+\n"
     ]
    }
   ],
   "source": [
    "game_cls.move(4)\n",
    "game_cls.render()"
   ],
   "metadata": {
    "collapsed": false,
    "ExecuteTime": {
     "end_time": "2024-01-16T22:16:55.446426Z",
     "start_time": "2024-01-16T22:16:55.443219Z"
    }
   },
   "id": "918fad6e0e6fc10c",
   "execution_count": 78
  },
  {
   "cell_type": "code",
   "outputs": [
    {
     "data": {
      "text/plain": "{0: -7.5,\n 1: -7.5,\n 2: -0.051440329218107,\n 3: -7.5,\n 5: -7.5,\n 6: -7.5,\n 7: -7.5,\n 8: -7.5}"
     },
     "execution_count": 79,
     "metadata": {},
     "output_type": "execute_result"
    }
   ],
   "source": [
    "result = mcts_policy.get_all_Qs(game_cls.get_state(), game_cls.player, game_cls.get_actions())\n",
    "result"
   ],
   "metadata": {
    "collapsed": false,
    "ExecuteTime": {
     "end_time": "2024-01-16T22:16:57.265281Z",
     "start_time": "2024-01-16T22:16:56.405292Z"
    }
   },
   "id": "70a54fe7a2656173",
   "execution_count": 79
  },
  {
   "cell_type": "code",
   "outputs": [],
   "source": [],
   "metadata": {
    "collapsed": false,
    "ExecuteTime": {
     "end_time": "2024-01-16T21:50:44.078965Z",
     "start_time": "2024-01-16T21:50:44.077087Z"
    }
   },
   "id": "39624788548db47e",
   "execution_count": 27
  },
  {
   "cell_type": "code",
   "outputs": [
    {
     "name": "stdout",
     "output_type": "stream",
     "text": [
      "\n",
      "+---+---+---+\n",
      "|   |   | O |\n",
      "+---+---+---+\n",
      "|   | X |   |\n",
      "+---+---+---+\n",
      "|   |   |   |\n",
      "+---+---+---+\n"
     ]
    }
   ],
   "source": [
    "game_cls.move(2)\n",
    "game_cls.render()"
   ],
   "metadata": {
    "collapsed": false,
    "ExecuteTime": {
     "end_time": "2024-01-16T22:17:05.904335Z",
     "start_time": "2024-01-16T22:17:05.900573Z"
    }
   },
   "id": "360082ea7f87bfbf",
   "execution_count": 80
  },
  {
   "cell_type": "code",
   "outputs": [
    {
     "name": "stdout",
     "output_type": "stream",
     "text": [
      "\n",
      "+---+---+---+\n",
      "|   |   | O |\n",
      "+---+---+---+\n",
      "|   | X |   |\n",
      "+---+---+---+\n",
      "|   |   | X |\n",
      "+---+---+---+\n"
     ]
    }
   ],
   "source": [
    "game_cls.move(8)\n",
    "game_cls.render()"
   ],
   "metadata": {
    "collapsed": false,
    "ExecuteTime": {
     "end_time": "2024-01-16T22:17:16.179549Z",
     "start_time": "2024-01-16T22:17:16.174296Z"
    }
   },
   "id": "1b824341bc9b21ae",
   "execution_count": 81
  },
  {
   "cell_type": "code",
   "outputs": [
    {
     "data": {
      "text/plain": "{0: 0.02594706798131811,\n 1: -6.666666666666667,\n 3: -7.142857142857143,\n 5: -6.296296296296297,\n 6: -6.666666666666667,\n 7: -6.296296296296297}"
     },
     "execution_count": 82,
     "metadata": {},
     "output_type": "execute_result"
    }
   ],
   "source": [
    "result = mcts_policy.get_all_Qs(game_cls.get_state(), game_cls.player, game_cls.get_actions())\n",
    "result"
   ],
   "metadata": {
    "collapsed": false,
    "ExecuteTime": {
     "end_time": "2024-01-16T22:17:19.254717Z",
     "start_time": "2024-01-16T22:17:19.216054Z"
    }
   },
   "id": "bb9f3d28f89717e7",
   "execution_count": 82
  },
  {
   "cell_type": "code",
   "outputs": [
    {
     "name": "stdout",
     "output_type": "stream",
     "text": [
      "\n",
      "+---+---+---+\n",
      "| O |   | O |\n",
      "+---+---+---+\n",
      "|   | X |   |\n",
      "+---+---+---+\n",
      "|   |   | X |\n",
      "+---+---+---+\n"
     ]
    }
   ],
   "source": [
    "game_cls.move(0)\n",
    "game_cls.render()"
   ],
   "metadata": {
    "collapsed": false,
    "ExecuteTime": {
     "end_time": "2024-01-16T22:17:28.560462Z",
     "start_time": "2024-01-16T22:17:28.556403Z"
    }
   },
   "id": "10863ec39fd97038",
   "execution_count": 83
  },
  {
   "cell_type": "code",
   "outputs": [
    {
     "name": "stdout",
     "output_type": "stream",
     "text": [
      "\n",
      "+---+---+---+\n",
      "| O | X | O |\n",
      "+---+---+---+\n",
      "|   | X |   |\n",
      "+---+---+---+\n",
      "|   |   | X |\n",
      "+---+---+---+\n"
     ]
    }
   ],
   "source": [
    "game_cls.move(1)\n",
    "game_cls.render()"
   ],
   "metadata": {
    "collapsed": false,
    "ExecuteTime": {
     "end_time": "2024-01-16T22:17:35.659850Z",
     "start_time": "2024-01-16T22:17:35.649547Z"
    }
   },
   "id": "904aeba32c4cade6",
   "execution_count": 84
  },
  {
   "cell_type": "code",
   "outputs": [
    {
     "data": {
      "text/plain": "{3: -5.0, 5: -5.0, 6: -5.0, 7: -0.015090543259557344}"
     },
     "execution_count": 85,
     "metadata": {},
     "output_type": "execute_result"
    }
   ],
   "source": [
    "result = mcts_policy.get_all_Qs(game_cls.get_state(), game_cls.player, game_cls.get_actions())\n",
    "result"
   ],
   "metadata": {
    "collapsed": false,
    "ExecuteTime": {
     "end_time": "2024-01-16T22:17:38.548137Z",
     "start_time": "2024-01-16T22:17:38.526978Z"
    }
   },
   "id": "a255c21edb05f423",
   "execution_count": 85
  },
  {
   "cell_type": "code",
   "outputs": [
    {
     "name": "stdout",
     "output_type": "stream",
     "text": [
      "\n",
      "+---+---+---+\n",
      "| O | X | O |\n",
      "+---+---+---+\n",
      "|   | X |   |\n",
      "+---+---+---+\n",
      "|   | O | X |\n",
      "+---+---+---+\n"
     ]
    }
   ],
   "source": [
    "game_cls.move(7)\n",
    "game_cls.render()"
   ],
   "metadata": {
    "collapsed": false,
    "ExecuteTime": {
     "end_time": "2024-01-16T22:17:50.510122Z",
     "start_time": "2024-01-16T22:17:50.505998Z"
    }
   },
   "id": "dac00170dd3e80ec",
   "execution_count": 86
  },
  {
   "cell_type": "code",
   "outputs": [
    {
     "name": "stdout",
     "output_type": "stream",
     "text": [
      "\n",
      "+---+---+---+\n",
      "| O | X | O |\n",
      "+---+---+---+\n",
      "| X | X |   |\n",
      "+---+---+---+\n",
      "|   | O | X |\n",
      "+---+---+---+\n"
     ]
    }
   ],
   "source": [
    "game_cls.move(3)\n",
    "game_cls.render()"
   ],
   "metadata": {
    "collapsed": false,
    "ExecuteTime": {
     "end_time": "2024-01-16T22:18:03.071703Z",
     "start_time": "2024-01-16T22:18:03.067617Z"
    }
   },
   "id": "8a62b0620218a3dd",
   "execution_count": 87
  },
  {
   "cell_type": "code",
   "outputs": [
    {
     "data": {
      "text/plain": "{5: 0.0, 6: -3.3333333333333335}"
     },
     "execution_count": 88,
     "metadata": {},
     "output_type": "execute_result"
    }
   ],
   "source": [
    "result = mcts_policy.get_all_Qs(game_cls.get_state(), game_cls.player, game_cls.get_actions())\n",
    "result"
   ],
   "metadata": {
    "collapsed": false,
    "ExecuteTime": {
     "end_time": "2024-01-16T22:18:06.903366Z",
     "start_time": "2024-01-16T22:18:06.899364Z"
    }
   },
   "id": "afcac76890647db9",
   "execution_count": 88
  },
  {
   "cell_type": "code",
   "outputs": [
    {
     "name": "stdout",
     "output_type": "stream",
     "text": [
      "\n",
      "+---+---+---+\n",
      "| O | X | O |\n",
      "+---+---+---+\n",
      "| X | X | O |\n",
      "+---+---+---+\n",
      "|   | O | X |\n",
      "+---+---+---+\n"
     ]
    }
   ],
   "source": [
    "game_cls.move(5)\n",
    "game_cls.render()"
   ],
   "metadata": {
    "collapsed": false,
    "ExecuteTime": {
     "end_time": "2024-01-16T22:18:16.371879Z",
     "start_time": "2024-01-16T22:18:16.367501Z"
    }
   },
   "id": "bab6598ba6b5b746",
   "execution_count": 89
  },
  {
   "cell_type": "code",
   "outputs": [
    {
     "name": "stdout",
     "output_type": "stream",
     "text": [
      "\n",
      "+---+---+---+\n",
      "| O | X | O |\n",
      "+---+---+---+\n",
      "| X | X | O |\n",
      "+---+---+---+\n",
      "| X | O | X |\n",
      "+---+---+---+\n"
     ]
    }
   ],
   "source": [
    "game_cls.move(6)\n",
    "game_cls.render()"
   ],
   "metadata": {
    "collapsed": false,
    "ExecuteTime": {
     "end_time": "2024-01-16T22:18:27.414751Z",
     "start_time": "2024-01-16T22:18:27.402181Z"
    }
   },
   "id": "bbdfe4cfbcf8eec6",
   "execution_count": 90
  },
  {
   "cell_type": "code",
   "outputs": [
    {
     "data": {
      "text/plain": "{}"
     },
     "execution_count": 91,
     "metadata": {},
     "output_type": "execute_result"
    }
   ],
   "source": [
    "result = mcts_policy.get_all_Qs(game_cls.get_state(), game_cls.player, game_cls.get_actions())\n",
    "result"
   ],
   "metadata": {
    "collapsed": false,
    "ExecuteTime": {
     "end_time": "2024-01-16T22:18:32.959556Z",
     "start_time": "2024-01-16T22:18:32.956179Z"
    }
   },
   "id": "3b11097d812b4400",
   "execution_count": 91
  },
  {
   "cell_type": "code",
   "outputs": [],
   "source": [],
   "metadata": {
    "collapsed": false
   },
   "id": "be203f9d7bcb4027"
  }
 ],
 "metadata": {
  "kernelspec": {
   "display_name": "Python 3",
   "language": "python",
   "name": "python3"
  },
  "language_info": {
   "codemirror_mode": {
    "name": "ipython",
    "version": 2
   },
   "file_extension": ".py",
   "mimetype": "text/x-python",
   "name": "python",
   "nbconvert_exporter": "python",
   "pygments_lexer": "ipython2",
   "version": "2.7.6"
  }
 },
 "nbformat": 4,
 "nbformat_minor": 5
}
